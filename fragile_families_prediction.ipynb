{
 "cells": [
  {
   "cell_type": "code",
   "execution_count": null,
   "metadata": {},
   "outputs": [],
   "source": [
    "import pandas as pd\n",
    "import numpy as np\n",
    "from sklearn.ensemble import GradientBoostingClassifier, GradientBoostingRegressor\n",
    "from xgboost import XGBClassifier, XGBRegressor\n",
    "import matplotlib.pyplot as plt\n",
    "import ff\n",
    "from collections import defaultdict\n",
    "from sklearn.ensemble import RandomForestRegressor\n",
    "from sklearn.model_selection import train_test_split, cross_val_score, KFold\n",
    "from sklearn.metrics import mean_squared_error\n",
    "from sklearn.pipeline import Pipeline\n",
    "from sklearn.model_selection import cross_val_score, KFold\n",
    "from sklearn.preprocessing import StandardScaler\n",
    "from sklearn.linear_model import LinearRegression\n"
   ]
  },
  {
   "cell_type": "code",
   "execution_count": null,
   "metadata": {},
   "outputs": [],
   "source": [
    "np.random.seed(0)"
   ]
  },
  {
   "cell_type": "code",
   "execution_count": null,
   "metadata": {},
   "outputs": [],
   "source": [
    "# some outputs were deleted to preserve anonymity"
   ]
  },
  {
   "cell_type": "markdown",
   "metadata": {},
   "source": [
    "#  Read in Data"
   ]
  },
  {
   "cell_type": "code",
   "execution_count": null,
   "metadata": {},
   "outputs": [],
   "source": [
    "# background\n",
    "df = pd.read_csv('../../FFChallenge_v5/background.csv',index_col=\"challengeID\")"
   ]
  },
  {
   "cell_type": "code",
   "execution_count": null,
   "metadata": {},
   "outputs": [
    {
     "name": "stderr",
     "output_type": "stream",
     "text": [
      "/var/folders/5k/j3bfrd8s2_l092hd5snmdbzm0000gn/T/ipykernel_1068/4044725941.py:2: DtypeWarning: Columns (12,23,24,27,99,103,107,111,115,119,123,127,131,135,139,143,147,151) have mixed types. Specify dtype option on import or set low_memory=False.\n",
      "  metadata = pd.read_csv('../../FFMetadata_v13_UTF.csv')\n"
     ]
    }
   ],
   "source": [
    "# metadata\n",
    "metadata = pd.read_csv('../../FFMetadata_v13_UTF.csv')"
   ]
  },
  {
   "cell_type": "code",
   "execution_count": null,
   "metadata": {},
   "outputs": [],
   "source": [
    "train = pd.read_csv('../../FFChallenge_v5/train.csv')"
   ]
  },
  {
   "cell_type": "code",
   "execution_count": null,
   "metadata": {},
   "outputs": [],
   "source": [
    "# convert negative values to nan\n",
    "df = df.apply(pd.to_numeric, errors='coerce')\n",
    "df[df < 0] = np.nan\n",
    "# adopted from Rigobon et al., 2019"
   ]
  },
  {
   "cell_type": "code",
   "execution_count": null,
   "metadata": {},
   "outputs": [
    {
     "name": "stdout",
     "output_type": "stream",
     "text": [
      "1000\n",
      "1000\n",
      "1000\n",
      "1000\n",
      "1000\n",
      "1000\n",
      "1000\n",
      "1000\n",
      "1000\n",
      "1000\n",
      "1000\n",
      "1000\n",
      "1000\n"
     ]
    },
    {
     "data": {
      "text/plain": [
       "4508"
      ]
     },
     "metadata": {},
     "output_type": "display_data"
    }
   ],
   "source": [
    "# Remove columns with low variance or >70% missing values\n",
    "\n",
    "num_rows = len(df)\n",
    "\n",
    "drop_cols = []\n",
    "\n",
    "processed_count = 0\n",
    "\n",
    "for column in df.columns:\n",
    "    try:\n",
    "        processed_count += 1\n",
    "        if processed_count % 1000 == 0:\n",
    "            print(processed_count)\n",
    "        \n",
    "        if column == 'challengeID':\n",
    "            continue\n",
    "\n",
    "        unique_values = df[column].nunique()\n",
    "        # get total missing values\n",
    "        missing_values = df[column].isnull().sum()\n",
    "        # check if col has low variance\n",
    "        low_variance = df[column].std(skipna=True) < 0.05\n",
    "\n",
    "        if unique_values == 1 or low_variance:\n",
    "            drop_cols.append(column)\n",
    "\n",
    "        # remove if >70% missing\n",
    "        elif missing_values > num_rows * 0.7:\n",
    "            drop_cols.append(column)\n",
    "    except Exception as ex:\n",
    "        print(f'Exception in column: {column}')\n",
    "        print(ex)\n",
    "\n",
    "df.drop(drop_cols, axis=1, inplace=True)\n",
    "\n",
    "len(df.columns)\n",
    "# adopted from Rigobon et al., 2019\n"
   ]
  },
  {
   "cell_type": "code",
   "execution_count": null,
   "metadata": {},
   "outputs": [],
   "source": [
    "clean_data = df"
   ]
  },
  {
   "cell_type": "markdown",
   "metadata": {},
   "source": [
    "# Impute Mean and Mode"
   ]
  },
  {
   "cell_type": "code",
   "execution_count": null,
   "metadata": {},
   "outputs": [],
   "source": [
    "column_types = metadata.set_index('column_name')['type'].to_dict()"
   ]
  },
  {
   "cell_type": "code",
   "execution_count": null,
   "metadata": {},
   "outputs": [
    {
     "name": "stdout",
     "output_type": "stream",
     "text": [
      "column 1000\n",
      "column 2000\n",
      "column 3000\n",
      "column 4000\n",
      "column 5000\n",
      "column 6000\n",
      "column 7000\n",
      "column 8000\n",
      "column 9000\n",
      "column 10000\n",
      "column 11000\n",
      "column 12000\n",
      "Column ch5dspr dropped.\n",
      "Column ch5ppvtpr dropped.\n",
      "Column ch5wj9pr dropped.\n",
      "Column ch5wj10pr dropped.\n",
      "column 13000\n",
      "column 14000\n",
      "column 15000\n",
      "column 16000\n",
      "column 17000\n",
      "column 18000\n",
      "column 19000\n",
      "column 20000\n",
      "column 21000\n",
      "column 22000\n",
      "column 23000\n",
      "column 24000\n",
      "column 25000\n",
      "column 26000\n",
      "column 27000\n",
      "column 28000\n",
      "column 29000\n",
      "column 30000\n",
      "column 31000\n",
      "<class 'pandas.core.frame.DataFrame'>\n",
      "RangeIndex: 4242 entries, 0 to 4241\n",
      "Columns: 4505 entries, challengeID to k5f1\n",
      "dtypes: float64(4487), int64(18)\n",
      "memory usage: 145.8 MB\n",
      "None\n",
      "cols not in clean: 27426\n"
     ]
    }
   ],
   "source": [
    "counter = 1\n",
    "cols_not_in_clean_data = 0\n",
    "for column, col_type in column_types.items():\n",
    "    if column in clean_data.columns:\n",
    "        if col_type in ['Continuous', 'Ordered Categorical']:\n",
    "            # Impute continuous and ordered categorical with mean\n",
    "            clean_data[column].fillna(clean_data[column].mean(), inplace=True)\n",
    "        elif col_type in ['Unordered Categorical', 'Binary']:\n",
    "            try:\n",
    "                # impute mode\n",
    "                col_mode = mode(clean_data[column])\n",
    "            except StatisticsError as e:\n",
    "                print(e)\n",
    "            clean_data[column].fillna(col_mode, inplace=True)\n",
    "        else:\n",
    "            # Drop any other columns\n",
    "            clean_data.drop(column, axis=1, inplace=True)\n",
    "            print(f\"Column {column} dropped.\")\n",
    "    else:\n",
    "        cols_not_in_clean_data += 1\n",
    "        # print(f\"Column {column} in metadata but not in clean_data.\")\n",
    "    counter += 1\n",
    "    if counter % 1000 == 0:\n",
    "        print(f'column {counter}')\n",
    "\n",
    "print(clean_data.info())\n",
    "print(f'cols not in clean: {cols_not_in_clean_data}')\n",
    "clean_data.to_csv('../Output/mean_mode_imputed_70.csv', index=False)\n"
   ]
  },
  {
   "cell_type": "code",
   "execution_count": 3,
   "metadata": {},
   "outputs": [],
   "source": [
    "imputed_df = pd.read_csv('../Output/mean_mode_imputed_70.csv')"
   ]
  },
  {
   "cell_type": "markdown",
   "metadata": {},
   "source": [
    "# Drop Weight Columns and NAs"
   ]
  },
  {
   "cell_type": "code",
   "execution_count": null,
   "metadata": {},
   "outputs": [],
   "source": [
    "weight_para_columns = metadata[metadata['topics'] == 'Paradata and weights']['new_name']"
   ]
  },
  {
   "cell_type": "code",
   "execution_count": null,
   "metadata": {},
   "outputs": [
    {
     "data": {
      "text/plain": [
       "['cf1lenhr',\n",
       " 'cf1lenmin',\n",
       " 'cf1fint',\n",
       " 'cf1citsm',\n",
       " 'f1citywt',\n",
       " 'cf1tele',\n",
       " 'f1citywt_rep1',\n",
       " 'f1citywt_rep2',\n",
       " 'f1citywt_rep3',\n",
       " 'f1citywt_rep4',\n",
       " 'f1citywt_rep5',\n",
       " 'f1citywt_rep6',\n",
       " 'f1citywt_rep7',\n",
       " 'f1citywt_rep8',\n",
       " 'f1citywt_rep9',\n",
       " 'f1citywt_rep10',\n",
       " 'cm1lenhr',\n",
       " 'cm1lenmin',\n",
       " 'cm1fint',\n",
       " 'cm1citsm',\n",
       " 'm1citywt',\n",
       " 'cm1citysm',\n",
       " 'm1citywt_rep1',\n",
       " 'm1citywt_rep2',\n",
       " 'm1citywt_rep3',\n",
       " 'm1citywt_rep4',\n",
       " 'm1citywt_rep5',\n",
       " 'm1citywt_rep6',\n",
       " 'm1citywt_rep7',\n",
       " 'm1citywt_rep8',\n",
       " 'm1citywt_rep9',\n",
       " 'm1citywt_rep10',\n",
       " 'cf2fint',\n",
       " 'cf2mint',\n",
       " 'cf2new12',\n",
       " 'cf2samp',\n",
       " 'cf2citsm',\n",
       " 'f2citywt',\n",
       " 'f2g4',\n",
       " 'f2k1',\n",
       " 'cf2tele',\n",
       " 'f2citywt_rep1',\n",
       " 'f2citywt_rep2',\n",
       " 'f2citywt_rep3',\n",
       " 'f2citywt_rep4',\n",
       " 'f2citywt_rep5',\n",
       " 'f2citywt_rep6',\n",
       " 'f2citywt_rep7',\n",
       " 'f2citywt_rep8',\n",
       " 'f2citywt_rep9',\n",
       " 'f2citywt_rep10',\n",
       " 'cq2citsm',\n",
       " 'q2citywt',\n",
       " 'q2citywt_rep1',\n",
       " 'q2citywt_rep2',\n",
       " 'q2citywt_rep3',\n",
       " 'q2citywt_rep4',\n",
       " 'q2citywt_rep5',\n",
       " 'q2citywt_rep6',\n",
       " 'q2citywt_rep7',\n",
       " 'q2citywt_rep8',\n",
       " 'q2citywt_rep9',\n",
       " 'q2citywt_rep10',\n",
       " 'cm2mint',\n",
       " 'cm2fint',\n",
       " 'cm2citsm',\n",
       " 'm2citywt',\n",
       " 'cm2tele',\n",
       " 'm2citywt_rep1',\n",
       " 'm2citywt_rep2',\n",
       " 'm2citywt_rep3',\n",
       " 'm2citywt_rep4',\n",
       " 'm2citywt_rep5',\n",
       " 'm2citywt_rep6',\n",
       " 'm2citywt_rep7',\n",
       " 'm2citywt_rep8',\n",
       " 'm2citywt_rep9',\n",
       " 'm2citywt_rep10',\n",
       " 'cf3fint',\n",
       " 'cf3mint',\n",
       " 'cf3new30',\n",
       " 'cf3samp',\n",
       " 'cf3citsm',\n",
       " 'f3citywt',\n",
       " 'f3k0',\n",
       " 'cf3tele',\n",
       " 'f3citywt_rep1',\n",
       " 'f3citywt_rep2',\n",
       " 'f3citywt_rep3',\n",
       " 'f3citywt_rep4',\n",
       " 'f3citywt_rep5',\n",
       " 'f3citywt_rep6',\n",
       " 'f3citywt_rep7',\n",
       " 'f3citywt_rep8',\n",
       " 'f3citywt_rep9',\n",
       " 'f3citywt_rep10',\n",
       " 'cq3citsm',\n",
       " 'q3citywt',\n",
       " 'q3citywt_rep1',\n",
       " 'q3citywt_rep2',\n",
       " 'q3citywt_rep3',\n",
       " 'q3citywt_rep4',\n",
       " 'q3citywt_rep5',\n",
       " 'q3citywt_rep6',\n",
       " 'q3citywt_rep7',\n",
       " 'q3citywt_rep8',\n",
       " 'q3citywt_rep9',\n",
       " 'q3citywt_rep10',\n",
       " 'cm3mint',\n",
       " 'cm3fint',\n",
       " 'cm3inccprov',\n",
       " 'cm3citsm',\n",
       " 'm3citywt',\n",
       " 'm3h1',\n",
       " 'cm3tele',\n",
       " 'm3citywt_rep1',\n",
       " 'm3citywt_rep2',\n",
       " 'm3citywt_rep3',\n",
       " 'm3citywt_rep4',\n",
       " 'm3citywt_rep5',\n",
       " 'm3citywt_rep6',\n",
       " 'm3citywt_rep7',\n",
       " 'm3citywt_rep8',\n",
       " 'm3citywt_rep9',\n",
       " 'm3citywt_rep10',\n",
       " 'cp3tele',\n",
       " 'o3v3',\n",
       " 'o3v4',\n",
       " 'o3v5',\n",
       " 'o3v7',\n",
       " 'ch3act',\n",
       " 'ch3mesyr',\n",
       " 'cf4mint',\n",
       " 'cf4new60',\n",
       " 'cf4samp',\n",
       " 'cf4citsm',\n",
       " 'f4citywt',\n",
       " 'f4h0',\n",
       " 'f4j25c',\n",
       " 'cf4tele',\n",
       " 'f4citywt_rep1',\n",
       " 'f4citywt_rep2',\n",
       " 'f4citywt_rep3',\n",
       " 'f4citywt_rep4',\n",
       " 'f4citywt_rep5',\n",
       " 'f4citywt_rep6',\n",
       " 'f4citywt_rep7',\n",
       " 'f4citywt_rep8',\n",
       " 'f4citywt_rep9',\n",
       " 'f4citywt_rep10',\n",
       " 'cq4citsm',\n",
       " 'q4citywt',\n",
       " 'q4citywt_rep1',\n",
       " 'q4citywt_rep2',\n",
       " 'q4citywt_rep3',\n",
       " 'q4citywt_rep4',\n",
       " 'q4citywt_rep5',\n",
       " 'q4citywt_rep6',\n",
       " 'q4citywt_rep7',\n",
       " 'q4citywt_rep8',\n",
       " 'q4citywt_rep9',\n",
       " 'q4citywt_rep10',\n",
       " 'cm4mint',\n",
       " 'cm4fint',\n",
       " 'cm4citsm',\n",
       " 'm4citywt',\n",
       " 'm4h1',\n",
       " 'm4j25c',\n",
       " 'cm4tele',\n",
       " 'm4citywt_rep1',\n",
       " 'm4citywt_rep2',\n",
       " 'm4citywt_rep3',\n",
       " 'm4citywt_rep4',\n",
       " 'm4citywt_rep5',\n",
       " 'm4citywt_rep6',\n",
       " 'm4citywt_rep7',\n",
       " 'm4citywt_rep8',\n",
       " 'm4citywt_rep9',\n",
       " 'm4citywt_rep10',\n",
       " 'ch4tele',\n",
       " 'o4v3',\n",
       " 'o4v4',\n",
       " 'o4v5',\n",
       " 'o4v7',\n",
       " 'o4v8_1',\n",
       " 'o4v8_2',\n",
       " 'o4v8_3',\n",
       " 'ch4act5',\n",
       " 'ch4mesyr',\n",
       " 'ck5kstatus',\n",
       " 'ck5kint',\n",
       " 'cm5mint',\n",
       " 'cf5bdadstat',\n",
       " 'cf5fint',\n",
       " 'cn5stat',\n",
       " 'cn5nint',\n",
       " 'cp5stat',\n",
       " 'cp5idstat',\n",
       " 'cp5pint',\n",
       " 'p5q4a',\n",
       " 'o5e18a',\n",
       " 'o5e18b',\n",
       " 'o5e18c',\n",
       " 'o5e18d',\n",
       " 'o5e18g',\n",
       " 'o5e18h',\n",
       " 'o5g1',\n",
       " 'o5g3',\n",
       " 'o5g4',\n",
       " 'o5g5',\n",
       " 'o5g7',\n",
       " 'co5notinhouse',\n",
       " 'co5famAtCA',\n",
       " 'co5famAtCI',\n",
       " 'co5famAtInt',\n",
       " 'o5g8_1',\n",
       " 'o5g8_2',\n",
       " 'o5g8_3',\n",
       " 'co5oint',\n",
       " 'cm5saliva',\n",
       " 'ck5saliva',\n",
       " 'ct5status',\n",
       " 'ct5tint',\n",
       " 'cf5tele',\n",
       " 'cm5tele',\n",
       " 'cf5new108',\n",
       " 'cf5samp']"
      ]
     },
     "metadata": {},
     "output_type": "display_data"
    }
   ],
   "source": [
    "# get weight_columns that exist in imputed_df\n",
    "weight_para_columns = [col for col in weight_para_columns if col in imputed_df.columns]\n",
    "weight_para_columns"
   ]
  },
  {
   "cell_type": "code",
   "execution_count": null,
   "metadata": {},
   "outputs": [],
   "source": [
    "# drop weight_para_columns from imputed_df\n",
    "imputed_df = imputed_df.drop(weight_para_columns, axis=1)"
   ]
  },
  {
   "cell_type": "code",
   "execution_count": null,
   "metadata": {},
   "outputs": [],
   "source": [
    "imputed_df = imputed_df.apply(lambda x: x.astype(float) if x.dtype == 'int' else x)"
   ]
  },
  {
   "cell_type": "code",
   "execution_count": null,
   "metadata": {},
   "outputs": [
    {
     "name": "stdout",
     "output_type": "stream",
     "text": [
      "No columns have more than 70% NAs.\n"
     ]
    }
   ],
   "source": [
    "# check\n",
    "na_percentage = imputed_df.isna().mean()\n",
    "columns_with_more_than_70_na = na_percentage[na_percentage > 0.7].index.tolist()\n",
    "if len(columns_with_more_than_70_na) > 0:\n",
    "    print(\"Columns with more than 70% NAs:\", columns_with_more_than_70_na)\n",
    "else:\n",
    "    print(\"No columns have more than 70% NAs.\")"
   ]
  },
  {
   "cell_type": "code",
   "execution_count": null,
   "metadata": {},
   "outputs": [],
   "source": [
    "# set metadata new_name column as string\n",
    "metadata['new_name'] = metadata['new_name'].astype(str)"
   ]
  },
  {
   "cell_type": "code",
   "execution_count": null,
   "metadata": {},
   "outputs": [],
   "source": [
    "# get list of metadata new_names\n",
    "metadata_cols = metadata['new_name'].tolist()"
   ]
  },
  {
   "cell_type": "code",
   "execution_count": 6,
   "metadata": {
    "scrolled": true
   },
   "outputs": [
    {
     "data": {
      "text/html": [
       "<div>\n",
       "<style scoped>\n",
       "    .dataframe tbody tr th:only-of-type {\n",
       "        vertical-align: middle;\n",
       "    }\n",
       "\n",
       "    .dataframe tbody tr th {\n",
       "        vertical-align: top;\n",
       "    }\n",
       "\n",
       "    .dataframe thead th {\n",
       "        text-align: right;\n",
       "    }\n",
       "</style>\n",
       "<table border=\"1\" class=\"dataframe\">\n",
       "  <thead>\n",
       "    <tr style=\"text-align: right;\">\n",
       "      <th></th>\n",
       "      <th>challengeID</th>\n",
       "      <th>f1a2</th>\n",
       "      <th>f1a3</th>\n",
       "      <th>f1a4</th>\n",
       "      <th>f1a5</th>\n",
       "      <th>f1a6</th>\n",
       "      <th>f1a6a</th>\n",
       "      <th>f1a7</th>\n",
       "      <th>cf1age</th>\n",
       "      <th>f1b1a</th>\n",
       "      <th>...</th>\n",
       "      <th>m4d6</th>\n",
       "      <th>m4d7</th>\n",
       "      <th>m4d9</th>\n",
       "      <th>m4e23</th>\n",
       "      <th>f4d6</th>\n",
       "      <th>f4d7</th>\n",
       "      <th>f4d9</th>\n",
       "      <th>m5d20</th>\n",
       "      <th>m5k10</th>\n",
       "      <th>k5f1</th>\n",
       "    </tr>\n",
       "  </thead>\n",
       "  <tbody>\n",
       "    <tr>\n",
       "      <th>0</th>\n",
       "      <td>1.0</td>\n",
       "      <td>1.0</td>\n",
       "      <td>1.0</td>\n",
       "      <td>1.0</td>\n",
       "      <td>1.0</td>\n",
       "      <td>1.0</td>\n",
       "      <td>1.920735</td>\n",
       "      <td>1.0</td>\n",
       "      <td>27.92677</td>\n",
       "      <td>4.91459</td>\n",
       "      <td>...</td>\n",
       "      <td>2.351121</td>\n",
       "      <td>1.235117</td>\n",
       "      <td>6.269946</td>\n",
       "      <td>5.180325</td>\n",
       "      <td>2.511131</td>\n",
       "      <td>1.718804</td>\n",
       "      <td>6.473537</td>\n",
       "      <td>4.476881</td>\n",
       "      <td>9.628369</td>\n",
       "      <td>24.038266</td>\n",
       "    </tr>\n",
       "    <tr>\n",
       "      <th>1</th>\n",
       "      <td>2.0</td>\n",
       "      <td>2.0</td>\n",
       "      <td>1.0</td>\n",
       "      <td>1.0</td>\n",
       "      <td>1.0</td>\n",
       "      <td>1.0</td>\n",
       "      <td>4.000000</td>\n",
       "      <td>2.0</td>\n",
       "      <td>27.92677</td>\n",
       "      <td>1.00000</td>\n",
       "      <td>...</td>\n",
       "      <td>2.351121</td>\n",
       "      <td>1.235117</td>\n",
       "      <td>6.269946</td>\n",
       "      <td>27.680196</td>\n",
       "      <td>2.511131</td>\n",
       "      <td>1.718804</td>\n",
       "      <td>6.473537</td>\n",
       "      <td>26.671897</td>\n",
       "      <td>9.628369</td>\n",
       "      <td>3.667679</td>\n",
       "    </tr>\n",
       "    <tr>\n",
       "      <th>2</th>\n",
       "      <td>3.0</td>\n",
       "      <td>1.0</td>\n",
       "      <td>1.0</td>\n",
       "      <td>1.0</td>\n",
       "      <td>1.0</td>\n",
       "      <td>2.0</td>\n",
       "      <td>1.920735</td>\n",
       "      <td>102.0</td>\n",
       "      <td>24.00000</td>\n",
       "      <td>3.00000</td>\n",
       "      <td>...</td>\n",
       "      <td>2.351121</td>\n",
       "      <td>1.235117</td>\n",
       "      <td>6.269946</td>\n",
       "      <td>5.180325</td>\n",
       "      <td>20.867881</td>\n",
       "      <td>24.115867</td>\n",
       "      <td>6.473537</td>\n",
       "      <td>4.476881</td>\n",
       "      <td>9.628369</td>\n",
       "      <td>24.038266</td>\n",
       "    </tr>\n",
       "    <tr>\n",
       "      <th>3</th>\n",
       "      <td>4.0</td>\n",
       "      <td>1.0</td>\n",
       "      <td>1.0</td>\n",
       "      <td>1.0</td>\n",
       "      <td>1.0</td>\n",
       "      <td>2.0</td>\n",
       "      <td>1.920735</td>\n",
       "      <td>101.0</td>\n",
       "      <td>24.00000</td>\n",
       "      <td>3.00000</td>\n",
       "      <td>...</td>\n",
       "      <td>21.220233</td>\n",
       "      <td>23.172680</td>\n",
       "      <td>6.269946</td>\n",
       "      <td>5.180325</td>\n",
       "      <td>22.018875</td>\n",
       "      <td>22.932641</td>\n",
       "      <td>6.473537</td>\n",
       "      <td>4.476881</td>\n",
       "      <td>9.628369</td>\n",
       "      <td>4.140511</td>\n",
       "    </tr>\n",
       "    <tr>\n",
       "      <th>4</th>\n",
       "      <td>5.0</td>\n",
       "      <td>2.0</td>\n",
       "      <td>1.0</td>\n",
       "      <td>1.0</td>\n",
       "      <td>1.0</td>\n",
       "      <td>2.0</td>\n",
       "      <td>1.920735</td>\n",
       "      <td>1.0</td>\n",
       "      <td>19.00000</td>\n",
       "      <td>4.00000</td>\n",
       "      <td>...</td>\n",
       "      <td>21.386605</td>\n",
       "      <td>23.227584</td>\n",
       "      <td>6.269946</td>\n",
       "      <td>5.180325</td>\n",
       "      <td>22.916602</td>\n",
       "      <td>22.988036</td>\n",
       "      <td>6.473537</td>\n",
       "      <td>4.476881</td>\n",
       "      <td>9.628369</td>\n",
       "      <td>3.668879</td>\n",
       "    </tr>\n",
       "    <tr>\n",
       "      <th>...</th>\n",
       "      <td>...</td>\n",
       "      <td>...</td>\n",
       "      <td>...</td>\n",
       "      <td>...</td>\n",
       "      <td>...</td>\n",
       "      <td>...</td>\n",
       "      <td>...</td>\n",
       "      <td>...</td>\n",
       "      <td>...</td>\n",
       "      <td>...</td>\n",
       "      <td>...</td>\n",
       "      <td>...</td>\n",
       "      <td>...</td>\n",
       "      <td>...</td>\n",
       "      <td>...</td>\n",
       "      <td>...</td>\n",
       "      <td>...</td>\n",
       "      <td>...</td>\n",
       "      <td>...</td>\n",
       "      <td>...</td>\n",
       "      <td>...</td>\n",
       "    </tr>\n",
       "    <tr>\n",
       "      <th>4237</th>\n",
       "      <td>4238.0</td>\n",
       "      <td>1.0</td>\n",
       "      <td>1.0</td>\n",
       "      <td>1.0</td>\n",
       "      <td>1.0</td>\n",
       "      <td>1.0</td>\n",
       "      <td>1.920735</td>\n",
       "      <td>1.0</td>\n",
       "      <td>27.92677</td>\n",
       "      <td>4.91459</td>\n",
       "      <td>...</td>\n",
       "      <td>2.351121</td>\n",
       "      <td>1.235117</td>\n",
       "      <td>27.941956</td>\n",
       "      <td>5.180325</td>\n",
       "      <td>2.511131</td>\n",
       "      <td>1.718804</td>\n",
       "      <td>6.473537</td>\n",
       "      <td>4.476881</td>\n",
       "      <td>9.628369</td>\n",
       "      <td>24.038266</td>\n",
       "    </tr>\n",
       "    <tr>\n",
       "      <th>4238</th>\n",
       "      <td>4239.0</td>\n",
       "      <td>2.0</td>\n",
       "      <td>1.0</td>\n",
       "      <td>1.0</td>\n",
       "      <td>1.0</td>\n",
       "      <td>2.0</td>\n",
       "      <td>1.920735</td>\n",
       "      <td>101.0</td>\n",
       "      <td>24.00000</td>\n",
       "      <td>0.00000</td>\n",
       "      <td>...</td>\n",
       "      <td>2.351121</td>\n",
       "      <td>1.235117</td>\n",
       "      <td>28.703663</td>\n",
       "      <td>5.180325</td>\n",
       "      <td>2.511131</td>\n",
       "      <td>1.718804</td>\n",
       "      <td>6.473537</td>\n",
       "      <td>4.476881</td>\n",
       "      <td>9.628369</td>\n",
       "      <td>3.424922</td>\n",
       "    </tr>\n",
       "    <tr>\n",
       "      <th>4239</th>\n",
       "      <td>4240.0</td>\n",
       "      <td>1.0</td>\n",
       "      <td>1.0</td>\n",
       "      <td>1.0</td>\n",
       "      <td>1.0</td>\n",
       "      <td>1.0</td>\n",
       "      <td>1.920735</td>\n",
       "      <td>1.0</td>\n",
       "      <td>27.92677</td>\n",
       "      <td>4.91459</td>\n",
       "      <td>...</td>\n",
       "      <td>2.351121</td>\n",
       "      <td>1.235117</td>\n",
       "      <td>6.269946</td>\n",
       "      <td>26.990283</td>\n",
       "      <td>2.511131</td>\n",
       "      <td>1.718804</td>\n",
       "      <td>6.473537</td>\n",
       "      <td>4.476881</td>\n",
       "      <td>9.628369</td>\n",
       "      <td>24.038266</td>\n",
       "    </tr>\n",
       "    <tr>\n",
       "      <th>4240</th>\n",
       "      <td>4241.0</td>\n",
       "      <td>2.0</td>\n",
       "      <td>1.0</td>\n",
       "      <td>2.0</td>\n",
       "      <td>1.0</td>\n",
       "      <td>1.0</td>\n",
       "      <td>1.000000</td>\n",
       "      <td>2.0</td>\n",
       "      <td>29.00000</td>\n",
       "      <td>0.00000</td>\n",
       "      <td>...</td>\n",
       "      <td>2.351121</td>\n",
       "      <td>1.235117</td>\n",
       "      <td>6.269946</td>\n",
       "      <td>27.189692</td>\n",
       "      <td>2.511131</td>\n",
       "      <td>1.718804</td>\n",
       "      <td>28.512659</td>\n",
       "      <td>4.476881</td>\n",
       "      <td>9.628369</td>\n",
       "      <td>3.656543</td>\n",
       "    </tr>\n",
       "    <tr>\n",
       "      <th>4241</th>\n",
       "      <td>4242.0</td>\n",
       "      <td>1.0</td>\n",
       "      <td>1.0</td>\n",
       "      <td>1.0</td>\n",
       "      <td>1.0</td>\n",
       "      <td>1.0</td>\n",
       "      <td>1.920735</td>\n",
       "      <td>1.0</td>\n",
       "      <td>27.92677</td>\n",
       "      <td>4.91459</td>\n",
       "      <td>...</td>\n",
       "      <td>21.096649</td>\n",
       "      <td>23.030114</td>\n",
       "      <td>6.269946</td>\n",
       "      <td>5.180325</td>\n",
       "      <td>23.558317</td>\n",
       "      <td>23.937457</td>\n",
       "      <td>6.473537</td>\n",
       "      <td>4.476881</td>\n",
       "      <td>9.628369</td>\n",
       "      <td>3.424922</td>\n",
       "    </tr>\n",
       "  </tbody>\n",
       "</table>\n",
       "<p>4242 rows × 4248 columns</p>\n",
       "</div>"
      ],
      "text/plain": [
       "      challengeID  f1a2  f1a3  f1a4  f1a5  f1a6     f1a6a   f1a7    cf1age  \\\n",
       "0             1.0   1.0   1.0   1.0   1.0   1.0  1.920735    1.0  27.92677   \n",
       "1             2.0   2.0   1.0   1.0   1.0   1.0  4.000000    2.0  27.92677   \n",
       "2             3.0   1.0   1.0   1.0   1.0   2.0  1.920735  102.0  24.00000   \n",
       "3             4.0   1.0   1.0   1.0   1.0   2.0  1.920735  101.0  24.00000   \n",
       "4             5.0   2.0   1.0   1.0   1.0   2.0  1.920735    1.0  19.00000   \n",
       "...           ...   ...   ...   ...   ...   ...       ...    ...       ...   \n",
       "4237       4238.0   1.0   1.0   1.0   1.0   1.0  1.920735    1.0  27.92677   \n",
       "4238       4239.0   2.0   1.0   1.0   1.0   2.0  1.920735  101.0  24.00000   \n",
       "4239       4240.0   1.0   1.0   1.0   1.0   1.0  1.920735    1.0  27.92677   \n",
       "4240       4241.0   2.0   1.0   2.0   1.0   1.0  1.000000    2.0  29.00000   \n",
       "4241       4242.0   1.0   1.0   1.0   1.0   1.0  1.920735    1.0  27.92677   \n",
       "\n",
       "        f1b1a  ...       m4d6       m4d7       m4d9      m4e23       f4d6  \\\n",
       "0     4.91459  ...   2.351121   1.235117   6.269946   5.180325   2.511131   \n",
       "1     1.00000  ...   2.351121   1.235117   6.269946  27.680196   2.511131   \n",
       "2     3.00000  ...   2.351121   1.235117   6.269946   5.180325  20.867881   \n",
       "3     3.00000  ...  21.220233  23.172680   6.269946   5.180325  22.018875   \n",
       "4     4.00000  ...  21.386605  23.227584   6.269946   5.180325  22.916602   \n",
       "...       ...  ...        ...        ...        ...        ...        ...   \n",
       "4237  4.91459  ...   2.351121   1.235117  27.941956   5.180325   2.511131   \n",
       "4238  0.00000  ...   2.351121   1.235117  28.703663   5.180325   2.511131   \n",
       "4239  4.91459  ...   2.351121   1.235117   6.269946  26.990283   2.511131   \n",
       "4240  0.00000  ...   2.351121   1.235117   6.269946  27.189692   2.511131   \n",
       "4241  4.91459  ...  21.096649  23.030114   6.269946   5.180325  23.558317   \n",
       "\n",
       "           f4d7       f4d9      m5d20     m5k10       k5f1  \n",
       "0      1.718804   6.473537   4.476881  9.628369  24.038266  \n",
       "1      1.718804   6.473537  26.671897  9.628369   3.667679  \n",
       "2     24.115867   6.473537   4.476881  9.628369  24.038266  \n",
       "3     22.932641   6.473537   4.476881  9.628369   4.140511  \n",
       "4     22.988036   6.473537   4.476881  9.628369   3.668879  \n",
       "...         ...        ...        ...       ...        ...  \n",
       "4237   1.718804   6.473537   4.476881  9.628369  24.038266  \n",
       "4238   1.718804   6.473537   4.476881  9.628369   3.424922  \n",
       "4239   1.718804   6.473537   4.476881  9.628369  24.038266  \n",
       "4240   1.718804  28.512659   4.476881  9.628369   3.656543  \n",
       "4241  23.937457   6.473537   4.476881  9.628369   3.424922  \n",
       "\n",
       "[4242 rows x 4248 columns]"
      ]
     },
     "execution_count": 6,
     "metadata": {},
     "output_type": "execute_result"
    }
   ],
   "source": [
    "imputed_df"
   ]
  },
  {
   "cell_type": "markdown",
   "metadata": {},
   "source": [
    "# Filter Missing Outcome Data"
   ]
  },
  {
   "cell_type": "code",
   "execution_count": null,
   "metadata": {},
   "outputs": [],
   "source": [
    "def get_filtered_data(x_df, train, outcome):\n",
    "    ''' filters the X dataframe for outcome rows that are not NA\n",
    "    params\n",
    "    x_df: df of features\n",
    "    train: df of outcomes\n",
    "    outcome: column name of outcome variable'''\n",
    "    imputed_df.reset_index(drop=True, inplace=True)\n",
    "    train.reset_index(drop=True, inplace=True)\n",
    "\n",
    "    # Merge features and outcomes on challenge ID\n",
    "    merged_df = imputed_df.merge(train, on='challengeID', how='inner', suffixes=('_imp', '_train'))\n",
    "\n",
    "    # Filter for outcome is not NA\n",
    "    filtered_df = merged_df[merged_df[outcome].notna()]\n",
    "\n",
    "    # get only x columns\n",
    "    filtered_x_df = filtered_df[imputed_df.columns]\n",
    "    \n",
    "    # drop challengeid\n",
    "    filtered_x_df = filtered_x_df.drop(columns=['challengeID'])\n",
    "    \n",
    "    # get only outcome column for y\n",
    "    filtered_y_df = filtered_df[outcome]\n",
    "    \n",
    "    # drop challengeid\n",
    "    filtered_y_df = filtered_y_df.drop(columns=['challengeID'])\n",
    "    \n",
    "    return filtered_x_df, filtered_y_df\n",
    "    "
   ]
  },
  {
   "cell_type": "code",
   "execution_count": null,
   "metadata": {},
   "outputs": [],
   "source": [
    "gpa_X, gpa_y = get_filtered_data(imputed_df, train, 'gpa')\n",
    "grit_X, grit_y = get_filtered_data(imputed_df, train, 'grit')\n",
    "MH_X, MH_y = get_filtered_data(imputed_df, train, 'materialHardship')\n",
    "layoff_X, layoff_y = get_filtered_data(imputed_df, train, 'layoff')\n",
    "eviction_X, eviction_y = get_filtered_data(imputed_df, train, 'eviction')\n",
    "JT_X, JT_y = get_filtered_data(imputed_df, train, 'jobTraining')"
   ]
  },
  {
   "cell_type": "code",
   "execution_count": null,
   "metadata": {},
   "outputs": [
    {
     "data": {
      "text/plain": [
       "count    1459.000000\n",
       "mean        0.103745\n",
       "std         0.155665\n",
       "min         0.000000\n",
       "25%         0.000000\n",
       "50%         0.000000\n",
       "75%         0.181818\n",
       "max         0.818182\n",
       "Name: materialHardship, dtype: float64"
      ]
     },
     "metadata": {},
     "output_type": "display_data"
    }
   ],
   "source": [
    "MH_y.describe()"
   ]
  },
  {
   "cell_type": "code",
   "execution_count": null,
   "metadata": {},
   "outputs": [
    {
     "data": {
      "text/plain": [
       "1459"
      ]
     },
     "metadata": {},
     "output_type": "display_data"
    }
   ],
   "source": [
    "len(MH_X)"
   ]
  },
  {
   "cell_type": "markdown",
   "metadata": {},
   "source": [
    "# Descriptive Statistics"
   ]
  },
  {
   "cell_type": "code",
   "execution_count": null,
   "metadata": {},
   "outputs": [
    {
     "data": {
      "text/html": [
       "<div>\n",
       "<style scoped>\n",
       "    .dataframe tbody tr th:only-of-type {\n",
       "        vertical-align: middle;\n",
       "    }\n",
       "\n",
       "    .dataframe tbody tr th {\n",
       "        vertical-align: top;\n",
       "    }\n",
       "\n",
       "    .dataframe thead th {\n",
       "        text-align: right;\n",
       "    }\n",
       "</style>\n",
       "<table border=\"1\" class=\"dataframe\">\n",
       "  <thead>\n",
       "    <tr style=\"text-align: right;\">\n",
       "      <th></th>\n",
       "      <th>materialHardship</th>\n",
       "    </tr>\n",
       "  </thead>\n",
       "  <tbody>\n",
       "    <tr>\n",
       "      <th>count</th>\n",
       "      <td>1459.00</td>\n",
       "    </tr>\n",
       "    <tr>\n",
       "      <th>mean</th>\n",
       "      <td>0.10</td>\n",
       "    </tr>\n",
       "    <tr>\n",
       "      <th>std</th>\n",
       "      <td>0.16</td>\n",
       "    </tr>\n",
       "    <tr>\n",
       "      <th>min</th>\n",
       "      <td>0.00</td>\n",
       "    </tr>\n",
       "    <tr>\n",
       "      <th>25%</th>\n",
       "      <td>0.00</td>\n",
       "    </tr>\n",
       "    <tr>\n",
       "      <th>50%</th>\n",
       "      <td>0.00</td>\n",
       "    </tr>\n",
       "    <tr>\n",
       "      <th>75%</th>\n",
       "      <td>0.18</td>\n",
       "    </tr>\n",
       "    <tr>\n",
       "      <th>max</th>\n",
       "      <td>0.82</td>\n",
       "    </tr>\n",
       "  </tbody>\n",
       "</table>\n",
       "</div>"
      ],
      "text/plain": [
       "       materialHardship\n",
       "count           1459.00\n",
       "mean               0.10\n",
       "std                0.16\n",
       "min                0.00\n",
       "25%                0.00\n",
       "50%                0.00\n",
       "75%                0.18\n",
       "max                0.82"
      ]
     },
     "metadata": {},
     "output_type": "display_data"
    }
   ],
   "source": [
    "mh_describe_df = pd.DataFrame(MH_y.describe()).round(2)\n",
    "pd.set_option('display.float_format', '{:.2f}'.format)\n",
    "\n",
    "mh_describe_df"
   ]
  },
  {
   "cell_type": "code",
   "execution_count": null,
   "metadata": {},
   "outputs": [
    {
     "data": {
      "image/png": "[encoded data removed]",
      "text/plain": [
       "<Figure size 640x480 with 1 Axes>"
      ]
     },
     "metadata": {},
     "output_type": "display_data"
    }
   ],
   "source": [
    "MH_y.hist()\n",
    "\n",
    "plt.xlabel('Material Hardship')\n",
    "\n",
    "plt.show()\n"
   ]
  },
  {
   "cell_type": "code",
   "execution_count": null,
   "metadata": {},
   "outputs": [
    {
     "data": {
      "text/plain": [
       "<Axes: >"
      ]
     },
     "metadata": {},
     "output_type": "display_data"
    },
    {
     "data": {
      "image/png": "[encoded data removed]",
      "text/plain": [
       "<Figure size 640x480 with 1 Axes>"
      ]
     },
     "metadata": {},
     "output_type": "display_data"
    }
   ],
   "source": [
    "MH_y_train.hist()"
   ]
  },
  {
   "cell_type": "markdown",
   "metadata": {},
   "source": [
    "## Life Satisfaction"
   ]
  },
  {
   "cell_type": "code",
   "execution_count": null,
   "metadata": {},
   "outputs": [
    {
     "name": "stderr",
     "output_type": "stream",
     "text": [
      "/var/folders/5k/j3bfrd8s2_l092hd5snmdbzm0000gn/T/ipykernel_982/1403428012.py:1: DtypeWarning: Columns (5168,5272,5328,5329,5340,5341,5351,5470,5479,5661,5663,5685,5695,5696,5706,5764,5772,5788,5803,5815,5816,5828,5900,5901,5937,5946,5965,5966,9287,12349,12353,12356) have mixed types. Specify dtype option on import or set low_memory=False.\n",
      "  og_data = pd.read_csv('../../FFChallenge_v5/background.csv')\n"
     ]
    }
   ],
   "source": [
    "og_data = pd.read_csv('../../FFChallenge_v5/background.csv')"
   ]
  },
  {
   "cell_type": "code",
   "execution_count": null,
   "metadata": {},
   "outputs": [
    {
     "data": {
      "image/png": "[encoded data removed]",
      "text/plain": [
       "<Figure size 640x480 with 1 Axes>"
      ]
     },
     "metadata": {},
     "output_type": "display_data"
    }
   ],
   "source": [
    "# life satisfaction uncleaned data value counts\n",
    "value_counts = og_data['m5g0'].value_counts()\n",
    "\n",
    "plt.bar(value_counts.index, value_counts.values, color = 'C0', alpha = 0.7)\n",
    "\n",
    "plt.xticks(value_counts.index)\n",
    "\n",
    "plt.show()\n"
   ]
  },
  {
   "cell_type": "code",
   "execution_count": null,
   "metadata": {},
   "outputs": [
    {
     "data": {
      "image/png": "[encoded data removed]",
      "text/plain": [
       "<Figure size 1000x600 with 1 Axes>"
      ]
     },
     "metadata": {},
     "output_type": "display_data"
    }
   ],
   "source": [
    "# histogram of cleaned data\n",
    "plt.figure(figsize=(10, 6))\n",
    "# by bins from 1 to 4\n",
    "counts, bins, patches = plt.hist(MH_X['m5g0'], bins=[0.5, 1.5, 2.5, 3.5, 4.5], alpha=0.7, rwidth = 0.8)\n",
    "plt.xticks(ticks=np.add(bins[:-1], 0.5), labels=[1, 2, 3, 4])\n",
    "plt.grid(True)\n",
    "plt.show()\n"
   ]
  },
  {
   "cell_type": "markdown",
   "metadata": {},
   "source": [
    "## Correlations"
   ]
  },
  {
   "cell_type": "code",
   "execution_count": null,
   "metadata": {},
   "outputs": [],
   "source": [
    "satisfaction_vars = ['f3j0a', 'm3j0a', 'f4j0', 'm4j0', 'm5g0', 'f5g0']\n"
   ]
  },
  {
   "cell_type": "code",
   "execution_count": null,
   "metadata": {},
   "outputs": [],
   "source": [
    "MH_X_satisfaction = MH_X[satisfaction_vars]"
   ]
  },
  {
   "cell_type": "code",
   "execution_count": null,
   "metadata": {},
   "outputs": [],
   "source": [
    "satisfaction_correlations = MH_X_satisfaction.corrwith(MH_y)"
   ]
  },
  {
   "cell_type": "code",
   "execution_count": null,
   "metadata": {},
   "outputs": [
    {
     "data": {
      "text/plain": [
       "f3j0a   0.08\n",
       "m3j0a   0.19\n",
       "f4j0    0.07\n",
       "m4j0    0.22\n",
       "m5g0    0.26\n",
       "f5g0    0.11\n",
       "dtype: float64"
      ]
     },
     "metadata": {},
     "output_type": "display_data"
    }
   ],
   "source": [
    "satisfaction_correlations"
   ]
  },
  {
   "cell_type": "code",
   "execution_count": null,
   "metadata": {},
   "outputs": [
    {
     "name": "stdout",
     "output_type": "stream",
     "text": [
      "Father Year 3   0.08\n",
      "Mother Year 3   0.19\n",
      "Father Year 5   0.07\n",
      "Mother Year 5   0.22\n",
      "Mother Year 9   0.26\n",
      "Father Year 9   0.11\n",
      "dtype: float64\n"
     ]
    }
   ],
   "source": [
    "# map feature labels\n",
    "label_mapping = {\n",
    "    'm': 'Mother',\n",
    "    'f': 'Father',\n",
    "    '3': 'Year 3',\n",
    "    '4': 'Year 5',\n",
    "    '5': 'Year 9'\n",
    "}\n",
    "\n",
    "correlations_with_labels = correlations.rename(index=lambda x: ' '.join([label_mapping.get(char, char) for char in x[:2]]))\n",
    "\n",
    "print(correlations_with_labels)"
   ]
  },
  {
   "cell_type": "code",
   "execution_count": null,
   "metadata": {},
   "outputs": [
    {
     "data": {
      "image/png": "[encoded data removed]",
      "text/plain": [
       "<Figure size 800x400 with 1 Axes>"
      ]
     },
     "metadata": {},
     "output_type": "display_data"
    }
   ],
   "source": [
    "# plot correlations\n",
    "categories = ['Year 3', 'Year 5', 'Year 9']\n",
    "father_correlation = [0.08, 0.07, 0.11]\n",
    "mother_correlation = [0.19, 0.22, 0.26]\n",
    "\n",
    "bar_width = 0.35\n",
    "index = np.arange(len(categories))\n",
    "\n",
    "plt.figure(figsize=(8, 4))\n",
    "# plot father bars\n",
    "bars1 = plt.bar(index, father_correlation, bar_width, label='Father', color='blue')\n",
    "# plot mother bars\n",
    "bars2 = plt.bar(index + bar_width, mother_correlation, bar_width, label='Mother', color='orange')\n",
    "\n",
    "plt.ylabel('Correlation')\n",
    "# add x ticks in middle of bars\n",
    "plt.xticks(index + bar_width / 2, categories)\n",
    "plt.legend()\n",
    "\n",
    "plt.tight_layout()\n",
    "plt.show()\n"
   ]
  },
  {
   "cell_type": "markdown",
   "metadata": {},
   "source": [
    "# Get Train and Test"
   ]
  },
  {
   "cell_type": "code",
   "execution_count": null,
   "metadata": {},
   "outputs": [],
   "source": [
    "from sklearn.preprocessing import StandardScaler\n",
    "from sklearn.model_selection import train_test_split\n",
    "\n",
    "def get_scaled_train_test(X, y, scale = True):\n",
    "    # perform split\n",
    "    X_train, X_test, y_train, y_test = train_test_split(X, y, test_size=0.2, random_state=42)\n",
    "    if scale == True:\n",
    "        scaler = StandardScaler()\n",
    "        scaler.fit(X_train)\n",
    "        # fit only to training data\n",
    "        X_train = scaler.transform(X_train)\n",
    "        # apply to test\n",
    "        X_test = scaler.transform(X_test)\n",
    "    return X_train, X_test, y_train, y_test\n"
   ]
  },
  {
   "cell_type": "code",
   "execution_count": null,
   "metadata": {},
   "outputs": [],
   "source": [
    "gpa_X_train, gpa_X_test, gpa_y_train, gpa_y_test = get_scaled_train_test(gpa_X, gpa_y, scale = False)\n",
    "grit_X_train, grit_X_test, grit_y_train, grit_y_test = get_scaled_train_test(grit_X, grit_y, scale = False)\n",
    "MH_X_train, MH_X_test, MH_y_train, MH_y_test = get_scaled_train_test(MH_X, MH_y, scale = False)\n",
    "layoff_X_train, layoff_X_test, layoff_y_train, layoff_y_test = get_scaled_train_test(layoff_X, layoff_y, scale = False)\n",
    "eviction_X_train, eviction_X_test, eviction_y_train, eviction_y_test = get_scaled_train_test(eviction_X, eviction_y, scale = False)\n",
    "jobTraining_X_train, jobTraining_X_test, jobTraining_y_train, jobTraining_y_test = get_scaled_train_test(JT_X, JT_y, scale = False)"
   ]
  },
  {
   "cell_type": "code",
   "execution_count": null,
   "metadata": {},
   "outputs": [
    {
     "data": {
      "text/plain": [
       "1167"
      ]
     },
     "metadata": {},
     "output_type": "display_data"
    }
   ],
   "source": [
    "len(MH_X_train)"
   ]
  },
  {
   "cell_type": "markdown",
   "metadata": {},
   "source": [
    "# Baseline Models"
   ]
  },
  {
   "cell_type": "markdown",
   "metadata": {},
   "source": [
    "## Linear"
   ]
  },
  {
   "cell_type": "code",
   "execution_count": null,
   "metadata": {},
   "outputs": [],
   "source": [
    "from sklearn.pipeline import Pipeline\n",
    "from sklearn.model_selection import cross_val_score, KFold\n",
    "from sklearn.preprocessing import StandardScaler"
   ]
  },
  {
   "cell_type": "code",
   "execution_count": null,
   "metadata": {},
   "outputs": [],
   "source": [
    "# dictionary to store MSEs\n",
    "mh_mse_dict = defaultdict(dict)"
   ]
  },
  {
   "cell_type": "code",
   "execution_count": null,
   "metadata": {},
   "outputs": [
    {
     "name": "stdout",
     "output_type": "stream",
     "text": [
      "MSE mh_scores for each fold: [-0.02512735 -0.02830853 -0.02628306 -0.02809355 -0.03055548]\n"
     ]
    }
   ],
   "source": [
    "# material hardship\n",
    "# pipeline: scale data, then apply linear regression model\n",
    "mh_pipeline = Pipeline([\n",
    "    ('scaler', StandardScaler()),\n",
    "    ('regressor', LinearRegression())\n",
    "])\n",
    "\n",
    "# cross-validation: 5-fold\n",
    "kf = KFold(n_splits=5, shuffle=True, random_state=42)\n",
    "\n",
    "# run pipline with cv\n",
    "mh_scores = cross_val_score(mh_pipeline, MH_X_train, MH_y_train, cv=kf, scoring='neg_mean_squared_error')\n",
    "print(\"MSE mh_scores for each fold:\", mh_scores)\n",
    "\n"
   ]
  },
  {
   "cell_type": "code",
   "execution_count": null,
   "metadata": {},
   "outputs": [
    {
     "name": "stdout",
     "output_type": "stream",
     "text": [
      "Average MSE: 0.0276735928557441\n"
     ]
    }
   ],
   "source": [
    "average_mse_mh = -np.mean(mh_scores)\n",
    "print(\"Average MSE:\", average_mse_mh)"
   ]
  },
  {
   "cell_type": "code",
   "execution_count": null,
   "metadata": {},
   "outputs": [],
   "source": [
    "# Fit to training data and get test predictions\n",
    "mh_pipeline.fit(MH_X_train, MH_y_train)\n",
    "\n",
    "y_test_pred_mh = mh_pipeline.predict(MH_X_test)\n",
    "\n"
   ]
  },
  {
   "cell_type": "code",
   "execution_count": null,
   "metadata": {},
   "outputs": [
    {
     "name": "stdout",
     "output_type": "stream",
     "text": [
      "Test MSE: 0.030657293672143496\n"
     ]
    }
   ],
   "source": [
    "# MSE for test set\n",
    "test_mse_mh = mean_squared_error(MH_y_test, y_test_pred_mh)\n",
    "print(\"Test MSE:\", test_mse_mh)\n"
   ]
  },
  {
   "cell_type": "code",
   "execution_count": null,
   "metadata": {},
   "outputs": [],
   "source": [
    "# add to MSE dict\n",
    "mse_dict['materialHardship'] = {'average_mse': average_mse_mh, 'test_mse': test_mse_mh}"
   ]
  },
  {
   "cell_type": "markdown",
   "metadata": {},
   "source": [
    "## Decision Tree"
   ]
  },
  {
   "cell_type": "code",
   "execution_count": null,
   "metadata": {},
   "outputs": [],
   "source": [
    "from sklearn.tree import DecisionTreeRegressor, DecisionTreeClassifier\n",
    "from sklearn.model_selection import train_test_split\n",
    "from sklearn.metrics import mean_squared_error, accuracy_score"
   ]
  },
  {
   "cell_type": "code",
   "execution_count": null,
   "metadata": {},
   "outputs": [
    {
     "name": "stdout",
     "output_type": "stream",
     "text": [
      "Mean Squared Error: 0.04437903317106308\n"
     ]
    }
   ],
   "source": [
    "tree_model_MH = DecisionTreeRegressor(random_state=42)\n",
    "tree_model_MH.fit(MH_X_train, MH_y_train)\n",
    "MH_y_pred = tree_model_MH.predict(MH_X_test)\n",
    "mse = mean_squared_error(MH_y_test, MH_y_pred)\n",
    "print(\"Mean Squared Error:\", mse)"
   ]
  },
  {
   "cell_type": "code",
   "execution_count": null,
   "metadata": {},
   "outputs": [
    {
     "name": "stdout",
     "output_type": "stream",
     "text": [
      "Validation MSE for Decision Tree Regressor: 0.0422\n"
     ]
    }
   ],
   "source": [
    "mse_scores = -cross_val_score(tree_model_MH, MH_X_train, MH_y_train, scoring='neg_mean_squared_error', cv=5)\n",
    "mean_mse = mse_scores.mean()\n",
    "print(f\"Validation MSE for Decision Tree Regressor: {mean_mse:.4f}\")\n"
   ]
  },
  {
   "cell_type": "code",
   "execution_count": null,
   "metadata": {},
   "outputs": [],
   "source": [
    "mh_mse_dict['Decision Tree']['average_mse'] = mean_mse"
   ]
  },
  {
   "cell_type": "code",
   "execution_count": null,
   "metadata": {},
   "outputs": [],
   "source": [
    "mh_mse_dict['Decision Tree']['test_mse'] = mse"
   ]
  },
  {
   "cell_type": "markdown",
   "metadata": {},
   "source": [
    "## Lasso"
   ]
  },
  {
   "cell_type": "code",
   "execution_count": null,
   "metadata": {},
   "outputs": [],
   "source": [
    "from sklearn.linear_model import LassoCV\n",
    "\n",
    "# scale data and perform cross validation on 5 folds\n",
    "lasso_pipeline = Pipeline([\n",
    "    ('scaler', StandardScaler()),\n",
    "    ('lasso', LassoCV(cv=5, random_state=42))\n",
    "])\n",
    "\n",
    "# Fit to training data\n",
    "lasso_pipeline.fit(MH_X_train, MH_y_train)\n",
    "\n",
    "# get lasso model\n",
    "lasso_model = lasso_pipeline.named_steps['lasso']\n"
   ]
  },
  {
   "cell_type": "code",
   "execution_count": null,
   "metadata": {},
   "outputs": [],
   "source": [
    "import pickle\n",
    "\n",
    "# Save lasso_model\n",
    "with open('lasso_model.pkl', 'wb') as file:\n",
    "    pickle.dump(lasso_model, file)\n"
   ]
  },
  {
   "cell_type": "code",
   "execution_count": null,
   "metadata": {},
   "outputs": [
    {
     "name": "stdout",
     "output_type": "stream",
     "text": [
      "Best alpha: 0.012179711046680858\n"
     ]
    }
   ],
   "source": [
    "print(\"Best alpha:\", lasso_model.alpha_)"
   ]
  },
  {
   "cell_type": "code",
   "execution_count": null,
   "metadata": {},
   "outputs": [],
   "source": [
    "# Get best MSE from cross-validation\n",
    "best_mse = np.min(lasso_mean_mse)\n",
    "#0.019197434926763752"
   ]
  },
  {
   "cell_type": "code",
   "execution_count": null,
   "metadata": {},
   "outputs": [
    {
     "name": "stdout",
     "output_type": "stream",
     "text": [
      "Test MSE with Lasso-selected features: 0.02319955002439556\n"
     ]
    }
   ],
   "source": [
    "# get test MSE\n",
    "MH_y_pred = lasso_pipeline.predict(MH_X_test)\n",
    "test_mse = mean_squared_error(MH_y_test, MH_y_pred)\n",
    "print(\"Test MSE with Lasso-selected features:\", test_mse)"
   ]
  },
  {
   "cell_type": "code",
   "execution_count": null,
   "metadata": {},
   "outputs": [],
   "source": [
    "mh_mse_dict = {'Linear': {'average_mse': average_mse_mh, 'test_mse': test_mse_mh}, 'Lasso': {'average_mse': best_mse, 'test_mse': test_mse}}\n"
   ]
  },
  {
   "cell_type": "markdown",
   "metadata": {},
   "source": [
    "## Gradient Boosting"
   ]
  },
  {
   "cell_type": "code",
   "execution_count": null,
   "metadata": {},
   "outputs": [
    {
     "name": "stdout",
     "output_type": "stream",
     "text": [
      "Cross-Validation MSE for GBM: 0.021562930163007997\n"
     ]
    }
   ],
   "source": [
    "from sklearn.model_selection import cross_val_score\n",
    "\n",
    "gbm = GradientBoostingRegressor(random_state=42)\n",
    "# cross validation + mse score\n",
    "mse_scores = -cross_val_score(gbm, MH_X_train, MH_y_train, scoring='neg_mean_squared_error', cv=5)\n",
    "mean_mse = mse_scores.mean()\n",
    "print(\"Cross-Validation MSE for GBM:\", mean_mse)"
   ]
  },
  {
   "cell_type": "code",
   "execution_count": null,
   "metadata": {},
   "outputs": [
    {
     "name": "stdout",
     "output_type": "stream",
     "text": [
      "MSE for MH Prediction: 0.024788991766004773\n"
     ]
    }
   ],
   "source": [
    "# fit and get test MSE\n",
    "gbm.fit(MH_X_train, MH_y_train)\n",
    "gbm_y_pred = gbm.predict(MH_X_test)\n",
    "gbm_mse = mean_squared_error(MH_y_test, gbm_y_pred)\n",
    "print(f'MSE for MH Prediction: {gbm_mse}')"
   ]
  },
  {
   "cell_type": "code",
   "execution_count": null,
   "metadata": {},
   "outputs": [],
   "source": [
    "mh_mse_dict['GBM'] = {'average_mse': mean_mse, 'test_mse': gbm_mse}"
   ]
  },
  {
   "cell_type": "markdown",
   "metadata": {},
   "source": [
    "## XGBoost"
   ]
  },
  {
   "cell_type": "code",
   "execution_count": null,
   "metadata": {},
   "outputs": [],
   "source": [
    "from xgboost import XGBRegressor, XGBClassifier\n",
    "from sklearn.model_selection import GridSearchCV\n",
    "import numpy as np\n",
    "\n",
    "\n",
    "Xall = MH_X.to_numpy()\n",
    "\n",
    "parameters = {'n_estimators': [100, 1000],\n",
    "                'learning_rate': [0.05, 0.02, 0.01],\n",
    "                'max_depth': [2, 5],\n",
    "                'subsample': [0.4, 0.6, 0.8],\n",
    "                'colsample_bytree': [0.4, 0.6, 0.8]}\n",
    "\n",
    "X = MH_X_train.to_numpy()\n",
    "y = MH_y_train.to_numpy()\n",
    "\n",
    "clf = GridSearchCV(XGBRegressor(),\n",
    "                    parameters,\n",
    "                    scoring='neg_mean_squared_error',\n",
    "                    n_jobs=-1, cv=5, verbose=0)\n",
    "clf.fit(X, y)\n",
    "print(clf.best_params_)\n",
    "\n",
    "# adapted from Rigobon et al. (2019)"
   ]
  },
  {
   "cell_type": "code",
   "execution_count": null,
   "metadata": {},
   "outputs": [
    {
     "name": "stdout",
     "output_type": "stream",
     "text": [
      "Test MSE: 0.02385438702365414\n"
     ]
    }
   ],
   "source": [
    "best_model = clf.best_estimator_\n",
    "y_pred_best = best_model.predict(MH_X_test)\n",
    "\n",
    "# MSE on the test data\n",
    "test_mse = mean_squared_error(MH_y_test, y_pred_best)\n",
    "print(\"Test MSE:\", test_mse)"
   ]
  },
  {
   "cell_type": "code",
   "execution_count": null,
   "metadata": {},
   "outputs": [
    {
     "name": "stdout",
     "output_type": "stream",
     "text": [
      "Best Score: 0.019368851412581763\n"
     ]
    }
   ],
   "source": [
    "best_score = -clf.best_score_\n",
    "print(\"Best Score:\", best_score)"
   ]
  },
  {
   "cell_type": "code",
   "execution_count": null,
   "metadata": {},
   "outputs": [],
   "source": [
    "# add best_score and test_mse to mh_mse_dict\n",
    "mh_mse_dict['XGBoost'] = {'average_mse': best_score, 'test_mse': test_mse}"
   ]
  },
  {
   "cell_type": "markdown",
   "metadata": {},
   "source": [
    "## Random Forest"
   ]
  },
  {
   "cell_type": "code",
   "execution_count": null,
   "metadata": {},
   "outputs": [],
   "source": [
    "from sklearn.model_selection import GridSearchCV\n",
    "from sklearn.ensemble import RandomForestRegressor\n",
    "from sklearn.model_selection import RandomizedSearchCV\n"
   ]
  },
  {
   "cell_type": "code",
   "execution_count": null,
   "metadata": {},
   "outputs": [],
   "source": [
    "rf_model = RandomForestRegressor(n_estimators=100,  \n",
    "                                 max_depth=None,    \n",
    "                                 random_state=42,   \n",
    "                                 n_jobs=-1)         \n"
   ]
  },
  {
   "cell_type": "code",
   "execution_count": null,
   "metadata": {},
   "outputs": [
    {
     "data": {
      "text/html": [
       "<style>#sk-container-id-2 {\n",
       "  /* Definition of color scheme common for light and dark mode */\n",
       "  --sklearn-color-text: black;\n",
       "  --sklearn-color-line: gray;\n",
       "  /* Definition of color scheme for unfitted estimators */\n",
       "  --sklearn-color-unfitted-level-0: #fff5e6;\n",
       "  --sklearn-color-unfitted-level-1: #f6e4d2;\n",
       "  --sklearn-color-unfitted-level-2: #ffe0b3;\n",
       "  --sklearn-color-unfitted-level-3: chocolate;\n",
       "  /* Definition of color scheme for fitted estimators */\n",
       "  --sklearn-color-fitted-level-0: #f0f8ff;\n",
       "  --sklearn-color-fitted-level-1: #d4ebff;\n",
       "  --sklearn-color-fitted-level-2: #b3dbfd;\n",
       "  --sklearn-color-fitted-level-3: cornflowerblue;\n",
       "\n",
       "  /* Specific color for light theme */\n",
       "  --sklearn-color-text-on-default-background: var(--sg-text-color, var(--theme-code-foreground, var(--jp-content-font-color1, black)));\n",
       "  --sklearn-color-background: var(--sg-background-color, var(--theme-background, var(--jp-layout-color0, white)));\n",
       "  --sklearn-color-border-box: var(--sg-text-color, var(--theme-code-foreground, var(--jp-content-font-color1, black)));\n",
       "  --sklearn-color-icon: #696969;\n",
       "\n",
       "  @media (prefers-color-scheme: dark) {\n",
       "    /* Redefinition of color scheme for dark theme */\n",
       "    --sklearn-color-text-on-default-background: var(--sg-text-color, var(--theme-code-foreground, var(--jp-content-font-color1, white)));\n",
       "    --sklearn-color-background: var(--sg-background-color, var(--theme-background, var(--jp-layout-color0, #111)));\n",
       "    --sklearn-color-border-box: var(--sg-text-color, var(--theme-code-foreground, var(--jp-content-font-color1, white)));\n",
       "    --sklearn-color-icon: #878787;\n",
       "  }\n",
       "}\n",
       "\n",
       "#sk-container-id-2 {\n",
       "  color: var(--sklearn-color-text);\n",
       "}\n",
       "\n",
       "#sk-container-id-2 pre {\n",
       "  padding: 0;\n",
       "}\n",
       "\n",
       "#sk-container-id-2 input.sk-hidden--visually {\n",
       "  border: 0;\n",
       "  clip: rect(1px 1px 1px 1px);\n",
       "  clip: rect(1px, 1px, 1px, 1px);\n",
       "  height: 1px;\n",
       "  margin: -1px;\n",
       "  overflow: hidden;\n",
       "  padding: 0;\n",
       "  position: absolute;\n",
       "  width: 1px;\n",
       "}\n",
       "\n",
       "#sk-container-id-2 div.sk-dashed-wrapped {\n",
       "  border: 1px dashed var(--sklearn-color-line);\n",
       "  margin: 0 0.4em 0.5em 0.4em;\n",
       "  box-sizing: border-box;\n",
       "  padding-bottom: 0.4em;\n",
       "  background-color: var(--sklearn-color-background);\n",
       "}\n",
       "\n",
       "#sk-container-id-2 div.sk-container {\n",
       "  /* jupyter's `normalize.less` sets `[hidden] { display: none; }`\n",
       "     but bootstrap.min.css set `[hidden] { display: none !important; }`\n",
       "     so we also need the `!important` here to be able to override the\n",
       "     default hidden behavior on the sphinx rendered scikit-learn.org.\n",
       "     See: https://github.com/scikit-learn/scikit-learn/issues/21755 */\n",
       "  display: inline-block !important;\n",
       "  position: relative;\n",
       "}\n",
       "\n",
       "#sk-container-id-2 div.sk-text-repr-fallback {\n",
       "  display: none;\n",
       "}\n",
       "\n",
       "div.sk-parallel-item,\n",
       "div.sk-serial,\n",
       "div.sk-item {\n",
       "  /* draw centered vertical line to link estimators */\n",
       "  background-image: linear-gradient(var(--sklearn-color-text-on-default-background), var(--sklearn-color-text-on-default-background));\n",
       "  background-size: 2px 100%;\n",
       "  background-repeat: no-repeat;\n",
       "  background-position: center center;\n",
       "}\n",
       "\n",
       "/* Parallel-specific style estimator block */\n",
       "\n",
       "#sk-container-id-2 div.sk-parallel-item::after {\n",
       "  content: \"\";\n",
       "  width: 100%;\n",
       "  border-bottom: 2px solid var(--sklearn-color-text-on-default-background);\n",
       "  flex-grow: 1;\n",
       "}\n",
       "\n",
       "#sk-container-id-2 div.sk-parallel {\n",
       "  display: flex;\n",
       "  align-items: stretch;\n",
       "  justify-content: center;\n",
       "  background-color: var(--sklearn-color-background);\n",
       "  position: relative;\n",
       "}\n",
       "\n",
       "#sk-container-id-2 div.sk-parallel-item {\n",
       "  display: flex;\n",
       "  flex-direction: column;\n",
       "}\n",
       "\n",
       "#sk-container-id-2 div.sk-parallel-item:first-child::after {\n",
       "  align-self: flex-end;\n",
       "  width: 50%;\n",
       "}\n",
       "\n",
       "#sk-container-id-2 div.sk-parallel-item:last-child::after {\n",
       "  align-self: flex-start;\n",
       "  width: 50%;\n",
       "}\n",
       "\n",
       "#sk-container-id-2 div.sk-parallel-item:only-child::after {\n",
       "  width: 0;\n",
       "}\n",
       "\n",
       "/* Serial-specific style estimator block */\n",
       "\n",
       "#sk-container-id-2 div.sk-serial {\n",
       "  display: flex;\n",
       "  flex-direction: column;\n",
       "  align-items: center;\n",
       "  background-color: var(--sklearn-color-background);\n",
       "  padding-right: 1em;\n",
       "  padding-left: 1em;\n",
       "}\n",
       "\n",
       "\n",
       "/* Toggleable style: style used for estimator/Pipeline/ColumnTransformer box that is\n",
       "clickable and can be expanded/collapsed.\n",
       "- Pipeline and ColumnTransformer use this feature and define the default style\n",
       "- Estimators will overwrite some part of the style using the `sk-estimator` class\n",
       "*/\n",
       "\n",
       "/* Pipeline and ColumnTransformer style (default) */\n",
       "\n",
       "#sk-container-id-2 div.sk-toggleable {\n",
       "  /* Default theme specific background. It is overwritten whether we have a\n",
       "  specific estimator or a Pipeline/ColumnTransformer */\n",
       "  background-color: var(--sklearn-color-background);\n",
       "}\n",
       "\n",
       "/* Toggleable label */\n",
       "#sk-container-id-2 label.sk-toggleable__label {\n",
       "  cursor: pointer;\n",
       "  display: block;\n",
       "  width: 100%;\n",
       "  margin-bottom: 0;\n",
       "  padding: 0.5em;\n",
       "  box-sizing: border-box;\n",
       "  text-align: center;\n",
       "}\n",
       "\n",
       "#sk-container-id-2 label.sk-toggleable__label-arrow:before {\n",
       "  /* Arrow on the left of the label */\n",
       "  content: \"▸\";\n",
       "  float: left;\n",
       "  margin-right: 0.25em;\n",
       "  color: var(--sklearn-color-icon);\n",
       "}\n",
       "\n",
       "#sk-container-id-2 label.sk-toggleable__label-arrow:hover:before {\n",
       "  color: var(--sklearn-color-text);\n",
       "}\n",
       "\n",
       "/* Toggleable content - dropdown */\n",
       "\n",
       "#sk-container-id-2 div.sk-toggleable__content {\n",
       "  max-height: 0;\n",
       "  max-width: 0;\n",
       "  overflow: hidden;\n",
       "  text-align: left;\n",
       "  /* unfitted */\n",
       "  background-color: var(--sklearn-color-unfitted-level-0);\n",
       "}\n",
       "\n",
       "#sk-container-id-2 div.sk-toggleable__content.fitted {\n",
       "  /* fitted */\n",
       "  background-color: var(--sklearn-color-fitted-level-0);\n",
       "}\n",
       "\n",
       "#sk-container-id-2 div.sk-toggleable__content pre {\n",
       "  margin: 0.2em;\n",
       "  border-radius: 0.25em;\n",
       "  color: var(--sklearn-color-text);\n",
       "  /* unfitted */\n",
       "  background-color: var(--sklearn-color-unfitted-level-0);\n",
       "}\n",
       "\n",
       "#sk-container-id-2 div.sk-toggleable__content.fitted pre {\n",
       "  /* unfitted */\n",
       "  background-color: var(--sklearn-color-fitted-level-0);\n",
       "}\n",
       "\n",
       "#sk-container-id-2 input.sk-toggleable__control:checked~div.sk-toggleable__content {\n",
       "  /* Expand drop-down */\n",
       "  max-height: 200px;\n",
       "  max-width: 100%;\n",
       "  overflow: auto;\n",
       "}\n",
       "\n",
       "#sk-container-id-2 input.sk-toggleable__control:checked~label.sk-toggleable__label-arrow:before {\n",
       "  content: \"▾\";\n",
       "}\n",
       "\n",
       "/* Pipeline/ColumnTransformer-specific style */\n",
       "\n",
       "#sk-container-id-2 div.sk-label input.sk-toggleable__control:checked~label.sk-toggleable__label {\n",
       "  color: var(--sklearn-color-text);\n",
       "  background-color: var(--sklearn-color-unfitted-level-2);\n",
       "}\n",
       "\n",
       "#sk-container-id-2 div.sk-label.fitted input.sk-toggleable__control:checked~label.sk-toggleable__label {\n",
       "  background-color: var(--sklearn-color-fitted-level-2);\n",
       "}\n",
       "\n",
       "/* Estimator-specific style */\n",
       "\n",
       "/* Colorize estimator box */\n",
       "#sk-container-id-2 div.sk-estimator input.sk-toggleable__control:checked~label.sk-toggleable__label {\n",
       "  /* unfitted */\n",
       "  background-color: var(--sklearn-color-unfitted-level-2);\n",
       "}\n",
       "\n",
       "#sk-container-id-2 div.sk-estimator.fitted input.sk-toggleable__control:checked~label.sk-toggleable__label {\n",
       "  /* fitted */\n",
       "  background-color: var(--sklearn-color-fitted-level-2);\n",
       "}\n",
       "\n",
       "#sk-container-id-2 div.sk-label label.sk-toggleable__label,\n",
       "#sk-container-id-2 div.sk-label label {\n",
       "  /* The background is the default theme color */\n",
       "  color: var(--sklearn-color-text-on-default-background);\n",
       "}\n",
       "\n",
       "/* On hover, darken the color of the background */\n",
       "#sk-container-id-2 div.sk-label:hover label.sk-toggleable__label {\n",
       "  color: var(--sklearn-color-text);\n",
       "  background-color: var(--sklearn-color-unfitted-level-2);\n",
       "}\n",
       "\n",
       "/* Label box, darken color on hover, fitted */\n",
       "#sk-container-id-2 div.sk-label.fitted:hover label.sk-toggleable__label.fitted {\n",
       "  color: var(--sklearn-color-text);\n",
       "  background-color: var(--sklearn-color-fitted-level-2);\n",
       "}\n",
       "\n",
       "/* Estimator label */\n",
       "\n",
       "#sk-container-id-2 div.sk-label label {\n",
       "  font-family: monospace;\n",
       "  font-weight: bold;\n",
       "  display: inline-block;\n",
       "  line-height: 1.2em;\n",
       "}\n",
       "\n",
       "#sk-container-id-2 div.sk-label-container {\n",
       "  text-align: center;\n",
       "}\n",
       "\n",
       "/* Estimator-specific */\n",
       "#sk-container-id-2 div.sk-estimator {\n",
       "  font-family: monospace;\n",
       "  border: 1px dotted var(--sklearn-color-border-box);\n",
       "  border-radius: 0.25em;\n",
       "  box-sizing: border-box;\n",
       "  margin-bottom: 0.5em;\n",
       "  /* unfitted */\n",
       "  background-color: var(--sklearn-color-unfitted-level-0);\n",
       "}\n",
       "\n",
       "#sk-container-id-2 div.sk-estimator.fitted {\n",
       "  /* fitted */\n",
       "  background-color: var(--sklearn-color-fitted-level-0);\n",
       "}\n",
       "\n",
       "/* on hover */\n",
       "#sk-container-id-2 div.sk-estimator:hover {\n",
       "  /* unfitted */\n",
       "  background-color: var(--sklearn-color-unfitted-level-2);\n",
       "}\n",
       "\n",
       "#sk-container-id-2 div.sk-estimator.fitted:hover {\n",
       "  /* fitted */\n",
       "  background-color: var(--sklearn-color-fitted-level-2);\n",
       "}\n",
       "\n",
       "/* Specification for estimator info (e.g. \"i\" and \"?\") */\n",
       "\n",
       "/* Common style for \"i\" and \"?\" */\n",
       "\n",
       ".sk-estimator-doc-link,\n",
       "a:link.sk-estimator-doc-link,\n",
       "a:visited.sk-estimator-doc-link {\n",
       "  float: right;\n",
       "  font-size: smaller;\n",
       "  line-height: 1em;\n",
       "  font-family: monospace;\n",
       "  background-color: var(--sklearn-color-background);\n",
       "  border-radius: 1em;\n",
       "  height: 1em;\n",
       "  width: 1em;\n",
       "  text-decoration: none !important;\n",
       "  margin-left: 1ex;\n",
       "  /* unfitted */\n",
       "  border: var(--sklearn-color-unfitted-level-1) 1pt solid;\n",
       "  color: var(--sklearn-color-unfitted-level-1);\n",
       "}\n",
       "\n",
       ".sk-estimator-doc-link.fitted,\n",
       "a:link.sk-estimator-doc-link.fitted,\n",
       "a:visited.sk-estimator-doc-link.fitted {\n",
       "  /* fitted */\n",
       "  border: var(--sklearn-color-fitted-level-1) 1pt solid;\n",
       "  color: var(--sklearn-color-fitted-level-1);\n",
       "}\n",
       "\n",
       "/* On hover */\n",
       "div.sk-estimator:hover .sk-estimator-doc-link:hover,\n",
       ".sk-estimator-doc-link:hover,\n",
       "div.sk-label-container:hover .sk-estimator-doc-link:hover,\n",
       ".sk-estimator-doc-link:hover {\n",
       "  /* unfitted */\n",
       "  background-color: var(--sklearn-color-unfitted-level-3);\n",
       "  color: var(--sklearn-color-background);\n",
       "  text-decoration: none;\n",
       "}\n",
       "\n",
       "div.sk-estimator.fitted:hover .sk-estimator-doc-link.fitted:hover,\n",
       ".sk-estimator-doc-link.fitted:hover,\n",
       "div.sk-label-container:hover .sk-estimator-doc-link.fitted:hover,\n",
       ".sk-estimator-doc-link.fitted:hover {\n",
       "  /* fitted */\n",
       "  background-color: var(--sklearn-color-fitted-level-3);\n",
       "  color: var(--sklearn-color-background);\n",
       "  text-decoration: none;\n",
       "}\n",
       "\n",
       "/* Span, style for the box shown on hovering the info icon */\n",
       ".sk-estimator-doc-link span {\n",
       "  display: none;\n",
       "  z-index: 9999;\n",
       "  position: relative;\n",
       "  font-weight: normal;\n",
       "  right: .2ex;\n",
       "  padding: .5ex;\n",
       "  margin: .5ex;\n",
       "  width: min-content;\n",
       "  min-width: 20ex;\n",
       "  max-width: 50ex;\n",
       "  color: var(--sklearn-color-text);\n",
       "  box-shadow: 2pt 2pt 4pt #999;\n",
       "  /* unfitted */\n",
       "  background: var(--sklearn-color-unfitted-level-0);\n",
       "  border: .5pt solid var(--sklearn-color-unfitted-level-3);\n",
       "}\n",
       "\n",
       ".sk-estimator-doc-link.fitted span {\n",
       "  /* fitted */\n",
       "  background: var(--sklearn-color-fitted-level-0);\n",
       "  border: var(--sklearn-color-fitted-level-3);\n",
       "}\n",
       "\n",
       ".sk-estimator-doc-link:hover span {\n",
       "  display: block;\n",
       "}\n",
       "\n",
       "/* \"?\"-specific style due to the `<a>` HTML tag */\n",
       "\n",
       "#sk-container-id-2 a.estimator_doc_link {\n",
       "  float: right;\n",
       "  font-size: 1rem;\n",
       "  line-height: 1em;\n",
       "  font-family: monospace;\n",
       "  background-color: var(--sklearn-color-background);\n",
       "  border-radius: 1rem;\n",
       "  height: 1rem;\n",
       "  width: 1rem;\n",
       "  text-decoration: none;\n",
       "  /* unfitted */\n",
       "  color: var(--sklearn-color-unfitted-level-1);\n",
       "  border: var(--sklearn-color-unfitted-level-1) 1pt solid;\n",
       "}\n",
       "\n",
       "#sk-container-id-2 a.estimator_doc_link.fitted {\n",
       "  /* fitted */\n",
       "  border: var(--sklearn-color-fitted-level-1) 1pt solid;\n",
       "  color: var(--sklearn-color-fitted-level-1);\n",
       "}\n",
       "\n",
       "/* On hover */\n",
       "#sk-container-id-2 a.estimator_doc_link:hover {\n",
       "  /* unfitted */\n",
       "  background-color: var(--sklearn-color-unfitted-level-3);\n",
       "  color: var(--sklearn-color-background);\n",
       "  text-decoration: none;\n",
       "}\n",
       "\n",
       "#sk-container-id-2 a.estimator_doc_link.fitted:hover {\n",
       "  /* fitted */\n",
       "  background-color: var(--sklearn-color-fitted-level-3);\n",
       "}\n",
       "</style><div id=\"sk-container-id-2\" class=\"sk-top-container\"><div class=\"sk-text-repr-fallback\"><pre>RandomForestRegressor(n_jobs=-1, random_state=42)</pre><b>In a Jupyter environment, please rerun this cell to show the HTML representation or trust the notebook. <br />On GitHub, the HTML representation is unable to render, please try loading this page with nbviewer.org.</b></div><div class=\"sk-container\" hidden><div class=\"sk-item\"><div class=\"sk-estimator fitted sk-toggleable\"><input class=\"sk-toggleable__control sk-hidden--visually\" id=\"sk-estimator-id-2\" type=\"checkbox\" checked><label for=\"sk-estimator-id-2\" class=\"sk-toggleable__label fitted sk-toggleable__label-arrow fitted\">&nbsp;&nbsp;RandomForestRegressor<a class=\"sk-estimator-doc-link fitted\" rel=\"noreferrer\" target=\"_blank\" href=\"https://scikit-learn.org/1.4/modules/generated/sklearn.ensemble.RandomForestRegressor.html\">?<span>Documentation for RandomForestRegressor</span></a><span class=\"sk-estimator-doc-link fitted\">i<span>Fitted</span></span></label><div class=\"sk-toggleable__content fitted\"><pre>RandomForestRegressor(n_jobs=-1, random_state=42)</pre></div> </div></div></div></div>"
      ],
      "text/plain": [
       "RandomForestRegressor(n_jobs=-1, random_state=42)"
      ]
     },
     "metadata": {},
     "output_type": "display_data"
    }
   ],
   "source": [
    "rf_model.fit(MH_X_train, MH_y_train)\n"
   ]
  },
  {
   "cell_type": "code",
   "execution_count": null,
   "metadata": {},
   "outputs": [
    {
     "name": "stdout",
     "output_type": "stream",
     "text": [
      "Test MSE: 0.02386138061813654\n"
     ]
    }
   ],
   "source": [
    "rf_y_pred = rf_model.predict(MH_X_test)\n",
    "\n",
    "rf_mse = mean_squared_error(MH_y_test, rf_y_pred)\n",
    "print(\"Test MSE:\", rf_mse)\n"
   ]
  },
  {
   "cell_type": "code",
   "execution_count": null,
   "metadata": {},
   "outputs": [
    {
     "name": "stdout",
     "output_type": "stream",
     "text": [
      "Average MSE from CV: 0.019947013252062037\n"
     ]
    }
   ],
   "source": [
    "# cross-validation\n",
    "kf = KFold(n_splits=5, shuffle=True, random_state=42)\n",
    "cv_scores = cross_val_score(rf_model, MH_X_train, MH_y_train, cv=kf, scoring='neg_mean_squared_error')\n",
    "cv_mse = -cv_scores.mean() \n",
    "print(\"Average MSE from CV:\", cv_mse)\n"
   ]
  },
  {
   "cell_type": "code",
   "execution_count": null,
   "metadata": {},
   "outputs": [],
   "source": [
    "mh_mse_dict['Random_Forest'] = {'average_mse': cv_mse, 'test_mse': rf_mse}\n"
   ]
  },
  {
   "cell_type": "markdown",
   "metadata": {},
   "source": [
    "### Hyperparameter Search"
   ]
  },
  {
   "cell_type": "code",
   "execution_count": null,
   "metadata": {},
   "outputs": [],
   "source": [
    "# Grid Search\n",
    "\n",
    "# parameters for search\n",
    "param_grid = {\n",
    "    'n_estimators': [100, 200, 300], \n",
    "    'max_features': ['auto', 'sqrt', 'log2'], \n",
    "    'max_depth': [None, 10, 20, 30], \n",
    "    'min_samples_split': [2, 5, 10], \n",
    "    'min_samples_leaf': [1, 2, 4] \n",
    "}\n",
    "\n",
    "grid_search = GridSearchCV(estimator=RandomForestRegressor(random_state=42),\n",
    "                           param_grid=param_grid, \n",
    "                           cv=5, \n",
    "                           n_jobs=-1, \n",
    "                           verbose=2,\n",
    "                           scoring='neg_mean_squared_error')\n"
   ]
  },
  {
   "cell_type": "code",
   "execution_count": null,
   "metadata": {},
   "outputs": [],
   "source": [
    "# run grid search\n",
    "grid_search.fit(MH_X_train, MH_y_train)\n",
    "print(\"Best parameters found by grid search:\", grid_search.best_params_)\n"
   ]
  },
  {
   "cell_type": "code",
   "execution_count": null,
   "metadata": {},
   "outputs": [
    {
     "name": "stdout",
     "output_type": "stream",
     "text": [
      "Cross-Validation MSE for Grid Search Model: 0.01994429646458638\n"
     ]
    }
   ],
   "source": [
    "# get MSE from grid search\n",
    "grid_search_model = grid_search.best_estimator_  \n",
    "cv_scores = cross_val_score(grid_search_model, MH_X_train, MH_y_train, cv=5, scoring='neg_mean_squared_error')\n",
    "cv_mse = -cv_scores.mean()\n",
    "print(\"Cross-Validation MSE for Grid Search Model:\", cv_mse)\n"
   ]
  },
  {
   "cell_type": "code",
   "execution_count": null,
   "metadata": {},
   "outputs": [
    {
     "name": "stdout",
     "output_type": "stream",
     "text": [
      "Test MSE: 0.02386138061813654\n"
     ]
    }
   ],
   "source": [
    "rf_y_pred = grid_search_model.predict(MH_X_test)\n",
    "grid_mse = mean_squared_error(MH_y_test, rf_y_pred)\n",
    "print(\"Test MSE:\", rf_mse)"
   ]
  },
  {
   "cell_type": "code",
   "execution_count": null,
   "metadata": {},
   "outputs": [],
   "source": [
    "# random search\n",
    "from scipy.stats import randint as sp_randint\n",
    "\n",
    "param_dist = {\n",
    "    'n_estimators': sp_randint(100, 500),\n",
    "    'max_features': [None, 'sqrt', 'log2'],\n",
    "    'max_depth': [None, 10, 20, 30, 40],\n",
    "    'min_samples_split': sp_randint(2, 11),\n",
    "    'min_samples_leaf': sp_randint(1, 5)\n",
    "}\n",
    "\n",
    "random_search = RandomizedSearchCV(estimator=RandomForestRegressor(random_state=42),\n",
    "                                   param_distributions=param_dist,\n",
    "                                   n_iter=100, \n",
    "                                   cv=5,\n",
    "                                   verbose=2,\n",
    "                                   random_state=42,\n",
    "                                   n_jobs=-1,\n",
    "                                   scoring='neg_mean_squared_error')\n"
   ]
  },
  {
   "cell_type": "code",
   "execution_count": null,
   "metadata": {},
   "outputs": [],
   "source": [
    "# run random search\n",
    "random_search.fit(MH_X_train, MH_y_train)\n",
    "print(\"Best parameters found by randomized search:\", random_search.best_params_)\n"
   ]
  },
  {
   "cell_type": "code",
   "execution_count": null,
   "metadata": {},
   "outputs": [],
   "source": [
    "random_search_model = random_search.best_estimator_\n"
   ]
  },
  {
   "cell_type": "code",
   "execution_count": null,
   "metadata": {},
   "outputs": [
    {
     "name": "stdout",
     "output_type": "stream",
     "text": [
      "Test MSE: 0.023853081363909484\n"
     ]
    }
   ],
   "source": [
    "random_y_pred = random_search_model.predict(MH_X_test)\n",
    "random_mse = mean_squared_error(MH_y_test, random_y_pred)\n",
    "print(\"Test MSE:\", random_mse)"
   ]
  },
  {
   "cell_type": "code",
   "execution_count": null,
   "metadata": {},
   "outputs": [],
   "source": [
    "mh_mse_dict['Random Forest Random Search']['average_mse'] = cv_mse\n",
    "mh_mse_dict['Random Forest Random Search']['test_mse'] = random_mse"
   ]
  },
  {
   "cell_type": "code",
   "execution_count": null,
   "metadata": {},
   "outputs": [],
   "source": [
    "from sklearn.ensemble import RandomForestClassifier\n",
    "binary_random_search = RandomizedSearchCV(estimator=RandomForestClassifier(random_state=42),\n",
    "                                   param_distributions=param_dist,\n",
    "                                   n_iter=100,  # Number of parameter settings sampled\n",
    "                                   cv=5,\n",
    "                                   verbose=2,\n",
    "                                   random_state=42,\n",
    "                                   n_jobs=-1,\n",
    "                                   scoring='neg_mean_squared_error')"
   ]
  },
  {
   "cell_type": "markdown",
   "metadata": {},
   "source": [
    "### Feature Importance"
   ]
  },
  {
   "cell_type": "code",
   "execution_count": null,
   "metadata": {},
   "outputs": [
    {
     "name": "stdout",
     "output_type": "stream",
     "text": [
      "m5g0: 0.005216866885895575\n",
      "m5f23g: 0.0050616714617254584\n",
      "cm4hhinc: 0.003981660550161842\n",
      "m5f23e: 0.003877079599710559\n",
      "m5f23k: 0.003558159484848358\n",
      "m4i23n: 0.003485048431213252\n",
      "m4i23d: 0.003236301702752601\n",
      "m5f23a: 0.002734628685586307\n",
      "m4i23h: 0.002725563704983048\n",
      "p4f1j: 0.0026967916409721265\n",
      "m3i23d: 0.00269303194506965\n",
      "ch3hap: 0.002684678578291538\n",
      "m3j0a: 0.002658519494943027\n",
      "cm3povco: 0.002612900070324364\n",
      "m5f8a2: 0.0024587026679041613\n",
      "m4i23l: 0.00230291483468533\n",
      "m5j1: 0.00224775839017824\n",
      "cm5povco: 0.002246537347951529\n",
      "cf2hhincb: 0.0022412030069478266\n",
      "m5f23c: 0.002171063611691921\n",
      "p3l1: 0.002131306711502495\n",
      "cf2hhinc: 0.002102887627781971\n",
      "cf2povco: 0.002098826898465158\n",
      "p3j7: 0.002030702701523001\n",
      "m5g33: 0.0019983277275807073\n",
      "m4j0: 0.0019876316069059037\n",
      "cm2povco: 0.001800131850072561\n",
      "m4l1: 0.0017804399240485863\n",
      "p3a21: 0.0017732481192793813\n",
      "cm4povco: 0.0017440811080693028\n",
      "p4f1f: 0.001702376548492711\n",
      "cm4povca: 0.001677520872303359\n",
      "m2h9c2: 0.0016138235181065272\n",
      "m1j2b: 0.0016041661812967365\n",
      "p3j11: 0.00156484926779365\n",
      "cm2hhinc: 0.0015542442732028687\n",
      "p3d1b: 0.0015186325870848647\n",
      "p5h14: 0.0015184755321495764\n",
      "cm5b_ageyrs: 0.0015135664684909247\n",
      "ch4mwtlb: 0.0014842159674838184\n",
      "cf4povcob: 0.001483767892289865\n",
      "cf5hhincb: 0.0014758549541691328\n",
      "p5j10: 0.0014742839836914086\n",
      "ch4mwtkg: 0.0014666570280043615\n",
      "ch3waz: 0.0014565287581083438\n",
      "cf2povcob: 0.0014554386205572708\n",
      "cm1povca: 0.001447164574119978\n",
      "ch3mwtkg: 0.0014266982447582786\n",
      "ch4cbmi_p: 0.001413952751650925\n",
      "p5q3ak: 0.0014132599992979558\n"
     ]
    }
   ],
   "source": [
    "feature_importances = random_search_model.feature_importances_\n",
    "\n",
    "feature_names = MH_X_train.columns\n",
    "\n",
    "# get dict of feature name and importance\n",
    "importance_dict = dict(zip(feature_names, feature_importances))\n",
    "\n",
    "# sort by importance value\n",
    "sorted_importance = sorted(importance_dict.items(), key=lambda x: x[1], reverse=True)\n",
    "\n",
    "# get top 50 features\n",
    "top_features = 50 \n",
    "for feature, importance in sorted_importance[:top_features]:\n",
    "    print(f\"{feature}: {importance}\")\n"
   ]
  },
  {
   "cell_type": "code",
   "execution_count": null,
   "metadata": {},
   "outputs": [],
   "source": [
    "# top rf features dict\n",
    "rf_features_dict = {}\n",
    "for feature, importance in sorted_importance[:top_features]:\n",
    "    rf_features_dict[feature] = ff.select(feature,['focal_person','label','respondent','subtopics','topics','subtopics','survey','wave'])\n",
    "    rf_features_dict[feature]['value'] = importance"
   ]
  },
  {
   "cell_type": "code",
   "execution_count": null,
   "metadata": {},
   "outputs": [],
   "source": [
    "rf_features_df = pd.DataFrame(rf_features_dict).T"
   ]
  },
  {
   "cell_type": "code",
   "execution_count": null,
   "metadata": {},
   "outputs": [
    {
     "data": {
      "text/html": [
       "<div>\n",
       "<style scoped>\n",
       "    .dataframe tbody tr th:only-of-type {\n",
       "        vertical-align: middle;\n",
       "    }\n",
       "\n",
       "    .dataframe tbody tr th {\n",
       "        vertical-align: top;\n",
       "    }\n",
       "\n",
       "    .dataframe thead th {\n",
       "        text-align: right;\n",
       "    }\n",
       "</style>\n",
       "<table border=\"1\" class=\"dataframe\">\n",
       "  <thead>\n",
       "    <tr style=\"text-align: right;\">\n",
       "      <th></th>\n",
       "      <th>focal_person</th>\n",
       "      <th>label</th>\n",
       "      <th>respondent</th>\n",
       "      <th>subtopics</th>\n",
       "      <th>survey</th>\n",
       "      <th>topics</th>\n",
       "      <th>wave</th>\n",
       "      <th>value</th>\n",
       "    </tr>\n",
       "  </thead>\n",
       "  <tbody>\n",
       "    <tr>\n",
       "      <th>m5g0</th>\n",
       "      <td>Mother</td>\n",
       "      <td>G0. How satisfied you are with your life overall</td>\n",
       "      <td>Mother</td>\n",
       "      <td>attitudes/expectations/happiness</td>\n",
       "      <td>Mother</td>\n",
       "      <td>Attitudes and expectations</td>\n",
       "      <td>Year 9</td>\n",
       "      <td>0.005217</td>\n",
       "    </tr>\n",
       "    <tr>\n",
       "      <th>m5f23g</th>\n",
       "      <td>Mother</td>\n",
       "      <td>F23G. Borrowed money from friends/family to he...</td>\n",
       "      <td>Mother</td>\n",
       "      <td>material hardship ; private transfers</td>\n",
       "      <td>Mother</td>\n",
       "      <td>Finances</td>\n",
       "      <td>Year 9</td>\n",
       "      <td>0.005062</td>\n",
       "    </tr>\n",
       "    <tr>\n",
       "      <th>cm4hhinc</th>\n",
       "      <td>Mother</td>\n",
       "      <td>Constructed - Household income (with imputed v...</td>\n",
       "      <td>Mother</td>\n",
       "      <td>household income/poverty</td>\n",
       "      <td>Mother</td>\n",
       "      <td>Finances</td>\n",
       "      <td>Year 5</td>\n",
       "      <td>0.003982</td>\n",
       "    </tr>\n",
       "    <tr>\n",
       "      <th>m5f23e</th>\n",
       "      <td>Mother</td>\n",
       "      <td>F23E. Did not pay full amount of gas/oil/elect...</td>\n",
       "      <td>Mother</td>\n",
       "      <td>material hardship</td>\n",
       "      <td>Mother</td>\n",
       "      <td>Finances</td>\n",
       "      <td>Year 9</td>\n",
       "      <td>0.003877</td>\n",
       "    </tr>\n",
       "    <tr>\n",
       "      <th>m5f23k</th>\n",
       "      <td>Mother</td>\n",
       "      <td>F23K. Telephone service disconnected because w...</td>\n",
       "      <td>Mother</td>\n",
       "      <td>material hardship ; home environment</td>\n",
       "      <td>Mother</td>\n",
       "      <td>Finances ; Housing and neighborhood</td>\n",
       "      <td>Year 9</td>\n",
       "      <td>0.003558</td>\n",
       "    </tr>\n",
       "    <tr>\n",
       "      <th>m4i23n</th>\n",
       "      <td>Mother</td>\n",
       "      <td>In past year, phone service disconnected b/c w...</td>\n",
       "      <td>Mother</td>\n",
       "      <td>material hardship ; home environment</td>\n",
       "      <td>Mother</td>\n",
       "      <td>Finances ; Housing and neighborhood</td>\n",
       "      <td>Year 5</td>\n",
       "      <td>0.003485</td>\n",
       "    </tr>\n",
       "    <tr>\n",
       "      <th>m4i23d</th>\n",
       "      <td>Mother</td>\n",
       "      <td>In past year, did not pay full amt rent/mortga...</td>\n",
       "      <td>Mother</td>\n",
       "      <td>material hardship</td>\n",
       "      <td>Mother</td>\n",
       "      <td>Finances</td>\n",
       "      <td>Year 5</td>\n",
       "      <td>0.003236</td>\n",
       "    </tr>\n",
       "    <tr>\n",
       "      <th>m5f23a</th>\n",
       "      <td>Mother</td>\n",
       "      <td>F23A. Received free food or meals in past 12 m...</td>\n",
       "      <td>Mother</td>\n",
       "      <td>material hardship</td>\n",
       "      <td>Mother</td>\n",
       "      <td>Finances</td>\n",
       "      <td>Year 9</td>\n",
       "      <td>0.002735</td>\n",
       "    </tr>\n",
       "    <tr>\n",
       "      <th>m4i23h</th>\n",
       "      <td>Mother</td>\n",
       "      <td>In past year, borrow money from friends or fam...</td>\n",
       "      <td>Mother</td>\n",
       "      <td>material hardship ; private transfers</td>\n",
       "      <td>Mother</td>\n",
       "      <td>Finances</td>\n",
       "      <td>Year 5</td>\n",
       "      <td>0.002726</td>\n",
       "    </tr>\n",
       "    <tr>\n",
       "      <th>p4f1j</th>\n",
       "      <td>Primary Caregiver</td>\n",
       "      <td>F1j. You are less interested in people than yo...</td>\n",
       "      <td>Primary Caregiver</td>\n",
       "      <td>parenting abilities</td>\n",
       "      <td>Primary Caregiver</td>\n",
       "      <td>Parenting</td>\n",
       "      <td>Year 5</td>\n",
       "      <td>0.002697</td>\n",
       "    </tr>\n",
       "    <tr>\n",
       "      <th>m3i23d</th>\n",
       "      <td>Mother</td>\n",
       "      <td>In past year, did you not pay full gas/oil/ele...</td>\n",
       "      <td>Mother</td>\n",
       "      <td>material hardship</td>\n",
       "      <td>Mother</td>\n",
       "      <td>Finances</td>\n",
       "      <td>Year 3</td>\n",
       "      <td>0.002693</td>\n",
       "    </tr>\n",
       "    <tr>\n",
       "      <th>ch3hap</th>\n",
       "      <td>Focal Child</td>\n",
       "      <td>Constructed - Child height for age percentile</td>\n",
       "      <td>Child</td>\n",
       "      <td>height and weight</td>\n",
       "      <td>In Home Survey</td>\n",
       "      <td>Health and health behavior</td>\n",
       "      <td>Year 3</td>\n",
       "      <td>0.002685</td>\n",
       "    </tr>\n",
       "    <tr>\n",
       "      <th>m3j0a</th>\n",
       "      <td>Mother</td>\n",
       "      <td>Overall, how satisfied are you with your life?</td>\n",
       "      <td>Mother</td>\n",
       "      <td>attitudes/expectations/happiness</td>\n",
       "      <td>Mother</td>\n",
       "      <td>Attitudes and expectations</td>\n",
       "      <td>Year 3</td>\n",
       "      <td>0.002659</td>\n",
       "    </tr>\n",
       "    <tr>\n",
       "      <th>cm3povco</th>\n",
       "      <td>Mother</td>\n",
       "      <td>Constructed - Poverty ratio - mother's househo...</td>\n",
       "      <td>Mother</td>\n",
       "      <td>household income/poverty</td>\n",
       "      <td>Mother</td>\n",
       "      <td>Finances</td>\n",
       "      <td>Year 3</td>\n",
       "      <td>0.002613</td>\n",
       "    </tr>\n",
       "    <tr>\n",
       "      <th>m5f8a2</th>\n",
       "      <td>Mother</td>\n",
       "      <td>F8A2. Received income from food stamps/EBT in ...</td>\n",
       "      <td>Mother</td>\n",
       "      <td>public transfers and social services</td>\n",
       "      <td>Mother</td>\n",
       "      <td>Finances</td>\n",
       "      <td>Year 9</td>\n",
       "      <td>0.002459</td>\n",
       "    </tr>\n",
       "    <tr>\n",
       "      <th>m4i23l</th>\n",
       "      <td>Mother</td>\n",
       "      <td>In past year, cut back buying clothes for your...</td>\n",
       "      <td>Mother</td>\n",
       "      <td>material hardship</td>\n",
       "      <td>Mother</td>\n",
       "      <td>Finances</td>\n",
       "      <td>Year 5</td>\n",
       "      <td>0.002303</td>\n",
       "    </tr>\n",
       "    <tr>\n",
       "      <th>m5j1</th>\n",
       "      <td>Mother</td>\n",
       "      <td>J1. Total household income before taxes/deduct...</td>\n",
       "      <td>Mother</td>\n",
       "      <td>household income/poverty</td>\n",
       "      <td>Mother</td>\n",
       "      <td>Finances</td>\n",
       "      <td>Year 9</td>\n",
       "      <td>0.002248</td>\n",
       "    </tr>\n",
       "    <tr>\n",
       "      <th>cm5povco</th>\n",
       "      <td>Mother</td>\n",
       "      <td>Constructed - Mother's household income/povert...</td>\n",
       "      <td>Mother</td>\n",
       "      <td>household income/poverty</td>\n",
       "      <td>Mother</td>\n",
       "      <td>Finances</td>\n",
       "      <td>Year 9</td>\n",
       "      <td>0.002247</td>\n",
       "    </tr>\n",
       "    <tr>\n",
       "      <th>cf2hhincb</th>\n",
       "      <td>Mother, Father</td>\n",
       "      <td>Constructed - Household income mother report f...</td>\n",
       "      <td>Father</td>\n",
       "      <td>household income/poverty</td>\n",
       "      <td>Father</td>\n",
       "      <td>Finances</td>\n",
       "      <td>Year 1</td>\n",
       "      <td>0.002241</td>\n",
       "    </tr>\n",
       "    <tr>\n",
       "      <th>m5f23c</th>\n",
       "      <td>Mother</td>\n",
       "      <td>F23C. Did not pay full amount of rent/mortgage...</td>\n",
       "      <td>Mother</td>\n",
       "      <td>material hardship</td>\n",
       "      <td>Mother</td>\n",
       "      <td>Finances</td>\n",
       "      <td>Year 9</td>\n",
       "      <td>0.002171</td>\n",
       "    </tr>\n",
       "    <tr>\n",
       "      <th>p3l1</th>\n",
       "      <td>Primary Caregiver</td>\n",
       "      <td>L1. Past year, times saw someone get hit, slap...</td>\n",
       "      <td>Primary Caregiver</td>\n",
       "      <td>neighborhood conditions</td>\n",
       "      <td>Primary Caregiver</td>\n",
       "      <td>Housing and neighborhood</td>\n",
       "      <td>Year 3</td>\n",
       "      <td>0.002131</td>\n",
       "    </tr>\n",
       "    <tr>\n",
       "      <th>cf2hhinc</th>\n",
       "      <td>Father</td>\n",
       "      <td>Constructed - Household income (with imputed v...</td>\n",
       "      <td>Father</td>\n",
       "      <td>household income/poverty</td>\n",
       "      <td>Father</td>\n",
       "      <td>Finances</td>\n",
       "      <td>Year 1</td>\n",
       "      <td>0.002103</td>\n",
       "    </tr>\n",
       "    <tr>\n",
       "      <th>cf2povco</th>\n",
       "      <td>Father</td>\n",
       "      <td>Constructed - Poverty ratio - household income...</td>\n",
       "      <td>Father</td>\n",
       "      <td>household income/poverty</td>\n",
       "      <td>Father</td>\n",
       "      <td>Finances</td>\n",
       "      <td>Year 1</td>\n",
       "      <td>0.002099</td>\n",
       "    </tr>\n",
       "    <tr>\n",
       "      <th>p3j7</th>\n",
       "      <td>Focal Child, Primary Caregiver</td>\n",
       "      <td>J7. Past year, times PCG spanked child on bott...</td>\n",
       "      <td>Primary Caregiver</td>\n",
       "      <td>parenting behavior</td>\n",
       "      <td>Primary Caregiver</td>\n",
       "      <td>Parenting</td>\n",
       "      <td>Year 3</td>\n",
       "      <td>0.002031</td>\n",
       "    </tr>\n",
       "    <tr>\n",
       "      <th>m5g33</th>\n",
       "      <td>Mother</td>\n",
       "      <td>G33. Ever period of several days when so irrit...</td>\n",
       "      <td>Mother</td>\n",
       "      <td>mental health</td>\n",
       "      <td>Mother</td>\n",
       "      <td>Health and health behavior</td>\n",
       "      <td>Year 9</td>\n",
       "      <td>0.001998</td>\n",
       "    </tr>\n",
       "    <tr>\n",
       "      <th>m4j0</th>\n",
       "      <td>Mother</td>\n",
       "      <td>In general, how satisfied are you with your li...</td>\n",
       "      <td>Mother</td>\n",
       "      <td>attitudes/expectations/happiness</td>\n",
       "      <td>Mother</td>\n",
       "      <td>Attitudes and expectations</td>\n",
       "      <td>Year 5</td>\n",
       "      <td>0.001988</td>\n",
       "    </tr>\n",
       "    <tr>\n",
       "      <th>cm2povco</th>\n",
       "      <td>Mother</td>\n",
       "      <td>Constructed - Poverty ratio - mother's househo...</td>\n",
       "      <td>Mother</td>\n",
       "      <td>household income/poverty</td>\n",
       "      <td>Mother</td>\n",
       "      <td>Finances</td>\n",
       "      <td>Year 1</td>\n",
       "      <td>0.0018</td>\n",
       "    </tr>\n",
       "    <tr>\n",
       "      <th>m4l1</th>\n",
       "      <td>Mother</td>\n",
       "      <td>In past year, total household income from all ...</td>\n",
       "      <td>Mother</td>\n",
       "      <td>household income/poverty</td>\n",
       "      <td>Mother</td>\n",
       "      <td>Finances</td>\n",
       "      <td>Year 5</td>\n",
       "      <td>0.00178</td>\n",
       "    </tr>\n",
       "    <tr>\n",
       "      <th>p3a21</th>\n",
       "      <td>Focal Child</td>\n",
       "      <td>A21. How many hours/day does child spend in ro...</td>\n",
       "      <td>Primary Caregiver</td>\n",
       "      <td>health behavior ; home environment</td>\n",
       "      <td>Primary Caregiver</td>\n",
       "      <td>Health and health behavior ; Housing and neigh...</td>\n",
       "      <td>Year 3</td>\n",
       "      <td>0.001773</td>\n",
       "    </tr>\n",
       "    <tr>\n",
       "      <th>cm4povco</th>\n",
       "      <td>Mother</td>\n",
       "      <td>Constructed - Poverty ratio - mother's househo...</td>\n",
       "      <td>Mother</td>\n",
       "      <td>household income/poverty</td>\n",
       "      <td>Mother</td>\n",
       "      <td>Finances</td>\n",
       "      <td>Year 5</td>\n",
       "      <td>0.001744</td>\n",
       "    </tr>\n",
       "    <tr>\n",
       "      <th>p4f1f</th>\n",
       "      <td>Primary Caregiver</td>\n",
       "      <td>F1f. There are quite a few things that bother ...</td>\n",
       "      <td>Primary Caregiver</td>\n",
       "      <td>parenting abilities</td>\n",
       "      <td>Primary Caregiver</td>\n",
       "      <td>Parenting</td>\n",
       "      <td>Year 5</td>\n",
       "      <td>0.001702</td>\n",
       "    </tr>\n",
       "    <tr>\n",
       "      <th>cm4povca</th>\n",
       "      <td>Mother</td>\n",
       "      <td>Constructed - Poverty categories</td>\n",
       "      <td>Mother</td>\n",
       "      <td>household income/poverty</td>\n",
       "      <td>Mother</td>\n",
       "      <td>Finances</td>\n",
       "      <td>Year 5</td>\n",
       "      <td>0.001678</td>\n",
       "    </tr>\n",
       "    <tr>\n",
       "      <th>m2h9c2</th>\n",
       "      <td>Mother</td>\n",
       "      <td>How much money did you receive last month from...</td>\n",
       "      <td>Mother</td>\n",
       "      <td>public transfers and social services</td>\n",
       "      <td>Mother</td>\n",
       "      <td>Finances</td>\n",
       "      <td>Year 1</td>\n",
       "      <td>0.001614</td>\n",
       "    </tr>\n",
       "    <tr>\n",
       "      <th>m1j2b</th>\n",
       "      <td>Mother</td>\n",
       "      <td>In last year, how much money did you receive f...</td>\n",
       "      <td>Mother</td>\n",
       "      <td>public transfers and social services</td>\n",
       "      <td>Mother</td>\n",
       "      <td>Finances</td>\n",
       "      <td>Baseline</td>\n",
       "      <td>0.001604</td>\n",
       "    </tr>\n",
       "    <tr>\n",
       "      <th>p3j11</th>\n",
       "      <td>Focal Child, Primary Caregiver</td>\n",
       "      <td>J11. Past year, times PCG slapped child on the...</td>\n",
       "      <td>Primary Caregiver</td>\n",
       "      <td>parenting behavior</td>\n",
       "      <td>Primary Caregiver</td>\n",
       "      <td>Parenting</td>\n",
       "      <td>Year 3</td>\n",
       "      <td>0.001565</td>\n",
       "    </tr>\n",
       "    <tr>\n",
       "      <th>cm2hhinc</th>\n",
       "      <td>Mother</td>\n",
       "      <td>Constructed - Household income (with imputed v...</td>\n",
       "      <td>Mother</td>\n",
       "      <td>household income/poverty</td>\n",
       "      <td>Mother</td>\n",
       "      <td>Finances</td>\n",
       "      <td>Year 1</td>\n",
       "      <td>0.001554</td>\n",
       "    </tr>\n",
       "    <tr>\n",
       "      <th>p3d1b</th>\n",
       "      <td>Focal Child, Primary Caregiver</td>\n",
       "      <td>D1b. Last 12M, food bought didn't last and did...</td>\n",
       "      <td>Primary Caregiver</td>\n",
       "      <td>material hardship</td>\n",
       "      <td>Primary Caregiver</td>\n",
       "      <td>Finances</td>\n",
       "      <td>Year 3</td>\n",
       "      <td>0.001519</td>\n",
       "    </tr>\n",
       "    <tr>\n",
       "      <th>p5h14</th>\n",
       "      <td>Focal Child</td>\n",
       "      <td>H14. Child covered by private health insurance...</td>\n",
       "      <td>Primary Caregiver</td>\n",
       "      <td>health care access and insurance</td>\n",
       "      <td>Primary Caregiver</td>\n",
       "      <td>Health and health behavior</td>\n",
       "      <td>Year 9</td>\n",
       "      <td>0.001518</td>\n",
       "    </tr>\n",
       "    <tr>\n",
       "      <th>cm5b_ageyrs</th>\n",
       "      <td>Focal Child</td>\n",
       "      <td>Constructed - Child age at time of mother inte...</td>\n",
       "      <td>Mother</td>\n",
       "      <td>age ; paradata</td>\n",
       "      <td>Mother</td>\n",
       "      <td>Demographics ; Paradata and weights</td>\n",
       "      <td>Year 9</td>\n",
       "      <td>0.001514</td>\n",
       "    </tr>\n",
       "    <tr>\n",
       "      <th>ch4mwtlb</th>\n",
       "      <td>Primary Caregiver</td>\n",
       "      <td>Constructed - PCG weight (pounds)</td>\n",
       "      <td>Primary Caregiver</td>\n",
       "      <td>height and weight</td>\n",
       "      <td>In Home Survey</td>\n",
       "      <td>Health and health behavior</td>\n",
       "      <td>Year 5</td>\n",
       "      <td>0.001484</td>\n",
       "    </tr>\n",
       "    <tr>\n",
       "      <th>cf4povcob</th>\n",
       "      <td>Mother, Father</td>\n",
       "      <td>Constructed - Poverty ratio - mother report fo...</td>\n",
       "      <td>Father</td>\n",
       "      <td>household income/poverty</td>\n",
       "      <td>Father</td>\n",
       "      <td>Finances</td>\n",
       "      <td>Year 5</td>\n",
       "      <td>0.001484</td>\n",
       "    </tr>\n",
       "    <tr>\n",
       "      <th>cf5hhincb</th>\n",
       "      <td>Mother, Father</td>\n",
       "      <td>cf5hhincb</td>\n",
       "      <td>Father</td>\n",
       "      <td>household income/poverty</td>\n",
       "      <td>Father</td>\n",
       "      <td>Finances</td>\n",
       "      <td>Year 9</td>\n",
       "      <td>0.001476</td>\n",
       "    </tr>\n",
       "    <tr>\n",
       "      <th>p5j10</th>\n",
       "      <td>Primary Caregiver</td>\n",
       "      <td>J10. Amount of money spent eating out in last ...</td>\n",
       "      <td>Primary Caregiver</td>\n",
       "      <td>expenses</td>\n",
       "      <td>Primary Caregiver</td>\n",
       "      <td>Finances</td>\n",
       "      <td>Year 9</td>\n",
       "      <td>0.001474</td>\n",
       "    </tr>\n",
       "    <tr>\n",
       "      <th>ch4mwtkg</th>\n",
       "      <td>Primary Caregiver</td>\n",
       "      <td>Constructed - PCG weight (kilograms)</td>\n",
       "      <td>Primary Caregiver</td>\n",
       "      <td>height and weight</td>\n",
       "      <td>In Home Survey</td>\n",
       "      <td>Health and health behavior</td>\n",
       "      <td>Year 5</td>\n",
       "      <td>0.001467</td>\n",
       "    </tr>\n",
       "    <tr>\n",
       "      <th>ch3waz</th>\n",
       "      <td>Primary Caregiver</td>\n",
       "      <td>Constructed - PCG weight for age standardized ...</td>\n",
       "      <td>Primary Caregiver</td>\n",
       "      <td>height and weight</td>\n",
       "      <td>In Home Survey</td>\n",
       "      <td>Health and health behavior</td>\n",
       "      <td>Year 3</td>\n",
       "      <td>0.001457</td>\n",
       "    </tr>\n",
       "    <tr>\n",
       "      <th>cf2povcob</th>\n",
       "      <td>Mother, Father</td>\n",
       "      <td>Constructed - Poverty ratio - mother report fo...</td>\n",
       "      <td>Father</td>\n",
       "      <td>household income/poverty</td>\n",
       "      <td>Father</td>\n",
       "      <td>Finances</td>\n",
       "      <td>Year 1</td>\n",
       "      <td>0.001455</td>\n",
       "    </tr>\n",
       "    <tr>\n",
       "      <th>cm1povca</th>\n",
       "      <td>Mother</td>\n",
       "      <td>Constructed - Poverty categories</td>\n",
       "      <td>Mother</td>\n",
       "      <td>household income/poverty</td>\n",
       "      <td>Mother</td>\n",
       "      <td>Finances</td>\n",
       "      <td>Baseline</td>\n",
       "      <td>0.001447</td>\n",
       "    </tr>\n",
       "    <tr>\n",
       "      <th>ch3mwtkg</th>\n",
       "      <td>Primary Caregiver</td>\n",
       "      <td>Constructed - PCG weight (kilograms)</td>\n",
       "      <td>Primary Caregiver</td>\n",
       "      <td>height and weight</td>\n",
       "      <td>In Home Survey</td>\n",
       "      <td>Health and health behavior</td>\n",
       "      <td>Year 3</td>\n",
       "      <td>0.001427</td>\n",
       "    </tr>\n",
       "    <tr>\n",
       "      <th>ch4cbmi_p</th>\n",
       "      <td>Focal Child</td>\n",
       "      <td>Constructed - Child Body Mass Index percentile</td>\n",
       "      <td>Child</td>\n",
       "      <td>height and weight</td>\n",
       "      <td>In Home Survey</td>\n",
       "      <td>Health and health behavior</td>\n",
       "      <td>Year 5</td>\n",
       "      <td>0.001414</td>\n",
       "    </tr>\n",
       "    <tr>\n",
       "      <th>p5q3ak</th>\n",
       "      <td>Focal Child</td>\n",
       "      <td>Q3AK. Child gets teased a lot</td>\n",
       "      <td>Primary Caregiver</td>\n",
       "      <td>behavior</td>\n",
       "      <td>Primary Caregiver</td>\n",
       "      <td>Cognitive and behavioral development</td>\n",
       "      <td>Year 9</td>\n",
       "      <td>0.001413</td>\n",
       "    </tr>\n",
       "  </tbody>\n",
       "</table>\n",
       "</div>"
      ],
      "text/plain": [
       "                               focal_person  \\\n",
       "m5g0                                 Mother   \n",
       "m5f23g                               Mother   \n",
       "cm4hhinc                             Mother   \n",
       "m5f23e                               Mother   \n",
       "m5f23k                               Mother   \n",
       "m4i23n                               Mother   \n",
       "m4i23d                               Mother   \n",
       "m5f23a                               Mother   \n",
       "m4i23h                               Mother   \n",
       "p4f1j                     Primary Caregiver   \n",
       "m3i23d                               Mother   \n",
       "ch3hap                          Focal Child   \n",
       "m3j0a                                Mother   \n",
       "cm3povco                             Mother   \n",
       "m5f8a2                               Mother   \n",
       "m4i23l                               Mother   \n",
       "m5j1                                 Mother   \n",
       "cm5povco                             Mother   \n",
       "cf2hhincb                    Mother, Father   \n",
       "m5f23c                               Mother   \n",
       "p3l1                      Primary Caregiver   \n",
       "cf2hhinc                             Father   \n",
       "cf2povco                             Father   \n",
       "p3j7         Focal Child, Primary Caregiver   \n",
       "m5g33                                Mother   \n",
       "m4j0                                 Mother   \n",
       "cm2povco                             Mother   \n",
       "m4l1                                 Mother   \n",
       "p3a21                           Focal Child   \n",
       "cm4povco                             Mother   \n",
       "p4f1f                     Primary Caregiver   \n",
       "cm4povca                             Mother   \n",
       "m2h9c2                               Mother   \n",
       "m1j2b                                Mother   \n",
       "p3j11        Focal Child, Primary Caregiver   \n",
       "cm2hhinc                             Mother   \n",
       "p3d1b        Focal Child, Primary Caregiver   \n",
       "p5h14                           Focal Child   \n",
       "cm5b_ageyrs                     Focal Child   \n",
       "ch4mwtlb                  Primary Caregiver   \n",
       "cf4povcob                    Mother, Father   \n",
       "cf5hhincb                    Mother, Father   \n",
       "p5j10                     Primary Caregiver   \n",
       "ch4mwtkg                  Primary Caregiver   \n",
       "ch3waz                    Primary Caregiver   \n",
       "cf2povcob                    Mother, Father   \n",
       "cm1povca                             Mother   \n",
       "ch3mwtkg                  Primary Caregiver   \n",
       "ch4cbmi_p                       Focal Child   \n",
       "p5q3ak                          Focal Child   \n",
       "\n",
       "                                                         label  \\\n",
       "m5g0          G0. How satisfied you are with your life overall   \n",
       "m5f23g       F23G. Borrowed money from friends/family to he...   \n",
       "cm4hhinc     Constructed - Household income (with imputed v...   \n",
       "m5f23e       F23E. Did not pay full amount of gas/oil/elect...   \n",
       "m5f23k       F23K. Telephone service disconnected because w...   \n",
       "m4i23n       In past year, phone service disconnected b/c w...   \n",
       "m4i23d       In past year, did not pay full amt rent/mortga...   \n",
       "m5f23a       F23A. Received free food or meals in past 12 m...   \n",
       "m4i23h       In past year, borrow money from friends or fam...   \n",
       "p4f1j        F1j. You are less interested in people than yo...   \n",
       "m3i23d       In past year, did you not pay full gas/oil/ele...   \n",
       "ch3hap           Constructed - Child height for age percentile   \n",
       "m3j0a           Overall, how satisfied are you with your life?   \n",
       "cm3povco     Constructed - Poverty ratio - mother's househo...   \n",
       "m5f8a2       F8A2. Received income from food stamps/EBT in ...   \n",
       "m4i23l       In past year, cut back buying clothes for your...   \n",
       "m5j1         J1. Total household income before taxes/deduct...   \n",
       "cm5povco     Constructed - Mother's household income/povert...   \n",
       "cf2hhincb    Constructed - Household income mother report f...   \n",
       "m5f23c       F23C. Did not pay full amount of rent/mortgage...   \n",
       "p3l1         L1. Past year, times saw someone get hit, slap...   \n",
       "cf2hhinc     Constructed - Household income (with imputed v...   \n",
       "cf2povco     Constructed - Poverty ratio - household income...   \n",
       "p3j7         J7. Past year, times PCG spanked child on bott...   \n",
       "m5g33        G33. Ever period of several days when so irrit...   \n",
       "m4j0         In general, how satisfied are you with your li...   \n",
       "cm2povco     Constructed - Poverty ratio - mother's househo...   \n",
       "m4l1         In past year, total household income from all ...   \n",
       "p3a21        A21. How many hours/day does child spend in ro...   \n",
       "cm4povco     Constructed - Poverty ratio - mother's househo...   \n",
       "p4f1f        F1f. There are quite a few things that bother ...   \n",
       "cm4povca                      Constructed - Poverty categories   \n",
       "m2h9c2       How much money did you receive last month from...   \n",
       "m1j2b        In last year, how much money did you receive f...   \n",
       "p3j11        J11. Past year, times PCG slapped child on the...   \n",
       "cm2hhinc     Constructed - Household income (with imputed v...   \n",
       "p3d1b        D1b. Last 12M, food bought didn't last and did...   \n",
       "p5h14        H14. Child covered by private health insurance...   \n",
       "cm5b_ageyrs  Constructed - Child age at time of mother inte...   \n",
       "ch4mwtlb                     Constructed - PCG weight (pounds)   \n",
       "cf4povcob    Constructed - Poverty ratio - mother report fo...   \n",
       "cf5hhincb                                            cf5hhincb   \n",
       "p5j10        J10. Amount of money spent eating out in last ...   \n",
       "ch4mwtkg                  Constructed - PCG weight (kilograms)   \n",
       "ch3waz       Constructed - PCG weight for age standardized ...   \n",
       "cf2povcob    Constructed - Poverty ratio - mother report fo...   \n",
       "cm1povca                      Constructed - Poverty categories   \n",
       "ch3mwtkg                  Constructed - PCG weight (kilograms)   \n",
       "ch4cbmi_p       Constructed - Child Body Mass Index percentile   \n",
       "p5q3ak                           Q3AK. Child gets teased a lot   \n",
       "\n",
       "                    respondent                              subtopics  \\\n",
       "m5g0                    Mother       attitudes/expectations/happiness   \n",
       "m5f23g                  Mother  material hardship ; private transfers   \n",
       "cm4hhinc                Mother               household income/poverty   \n",
       "m5f23e                  Mother                      material hardship   \n",
       "m5f23k                  Mother   material hardship ; home environment   \n",
       "m4i23n                  Mother   material hardship ; home environment   \n",
       "m4i23d                  Mother                      material hardship   \n",
       "m5f23a                  Mother                      material hardship   \n",
       "m4i23h                  Mother  material hardship ; private transfers   \n",
       "p4f1j        Primary Caregiver                    parenting abilities   \n",
       "m3i23d                  Mother                      material hardship   \n",
       "ch3hap                   Child                      height and weight   \n",
       "m3j0a                   Mother       attitudes/expectations/happiness   \n",
       "cm3povco                Mother               household income/poverty   \n",
       "m5f8a2                  Mother   public transfers and social services   \n",
       "m4i23l                  Mother                      material hardship   \n",
       "m5j1                    Mother               household income/poverty   \n",
       "cm5povco                Mother               household income/poverty   \n",
       "cf2hhincb               Father               household income/poverty   \n",
       "m5f23c                  Mother                      material hardship   \n",
       "p3l1         Primary Caregiver                neighborhood conditions   \n",
       "cf2hhinc                Father               household income/poverty   \n",
       "cf2povco                Father               household income/poverty   \n",
       "p3j7         Primary Caregiver                     parenting behavior   \n",
       "m5g33                   Mother                          mental health   \n",
       "m4j0                    Mother       attitudes/expectations/happiness   \n",
       "cm2povco                Mother               household income/poverty   \n",
       "m4l1                    Mother               household income/poverty   \n",
       "p3a21        Primary Caregiver     health behavior ; home environment   \n",
       "cm4povco                Mother               household income/poverty   \n",
       "p4f1f        Primary Caregiver                    parenting abilities   \n",
       "cm4povca                Mother               household income/poverty   \n",
       "m2h9c2                  Mother   public transfers and social services   \n",
       "m1j2b                   Mother   public transfers and social services   \n",
       "p3j11        Primary Caregiver                     parenting behavior   \n",
       "cm2hhinc                Mother               household income/poverty   \n",
       "p3d1b        Primary Caregiver                      material hardship   \n",
       "p5h14        Primary Caregiver       health care access and insurance   \n",
       "cm5b_ageyrs             Mother                         age ; paradata   \n",
       "ch4mwtlb     Primary Caregiver                      height and weight   \n",
       "cf4povcob               Father               household income/poverty   \n",
       "cf5hhincb               Father               household income/poverty   \n",
       "p5j10        Primary Caregiver                               expenses   \n",
       "ch4mwtkg     Primary Caregiver                      height and weight   \n",
       "ch3waz       Primary Caregiver                      height and weight   \n",
       "cf2povcob               Father               household income/poverty   \n",
       "cm1povca                Mother               household income/poverty   \n",
       "ch3mwtkg     Primary Caregiver                      height and weight   \n",
       "ch4cbmi_p                Child                      height and weight   \n",
       "p5q3ak       Primary Caregiver                               behavior   \n",
       "\n",
       "                        survey  \\\n",
       "m5g0                    Mother   \n",
       "m5f23g                  Mother   \n",
       "cm4hhinc                Mother   \n",
       "m5f23e                  Mother   \n",
       "m5f23k                  Mother   \n",
       "m4i23n                  Mother   \n",
       "m4i23d                  Mother   \n",
       "m5f23a                  Mother   \n",
       "m4i23h                  Mother   \n",
       "p4f1j        Primary Caregiver   \n",
       "m3i23d                  Mother   \n",
       "ch3hap          In Home Survey   \n",
       "m3j0a                   Mother   \n",
       "cm3povco                Mother   \n",
       "m5f8a2                  Mother   \n",
       "m4i23l                  Mother   \n",
       "m5j1                    Mother   \n",
       "cm5povco                Mother   \n",
       "cf2hhincb               Father   \n",
       "m5f23c                  Mother   \n",
       "p3l1         Primary Caregiver   \n",
       "cf2hhinc                Father   \n",
       "cf2povco                Father   \n",
       "p3j7         Primary Caregiver   \n",
       "m5g33                   Mother   \n",
       "m4j0                    Mother   \n",
       "cm2povco                Mother   \n",
       "m4l1                    Mother   \n",
       "p3a21        Primary Caregiver   \n",
       "cm4povco                Mother   \n",
       "p4f1f        Primary Caregiver   \n",
       "cm4povca                Mother   \n",
       "m2h9c2                  Mother   \n",
       "m1j2b                   Mother   \n",
       "p3j11        Primary Caregiver   \n",
       "cm2hhinc                Mother   \n",
       "p3d1b        Primary Caregiver   \n",
       "p5h14        Primary Caregiver   \n",
       "cm5b_ageyrs             Mother   \n",
       "ch4mwtlb        In Home Survey   \n",
       "cf4povcob               Father   \n",
       "cf5hhincb               Father   \n",
       "p5j10        Primary Caregiver   \n",
       "ch4mwtkg        In Home Survey   \n",
       "ch3waz          In Home Survey   \n",
       "cf2povcob               Father   \n",
       "cm1povca                Mother   \n",
       "ch3mwtkg        In Home Survey   \n",
       "ch4cbmi_p       In Home Survey   \n",
       "p5q3ak       Primary Caregiver   \n",
       "\n",
       "                                                        topics      wave  \\\n",
       "m5g0                                Attitudes and expectations    Year 9   \n",
       "m5f23g                                                Finances    Year 9   \n",
       "cm4hhinc                                              Finances    Year 5   \n",
       "m5f23e                                                Finances    Year 9   \n",
       "m5f23k                     Finances ; Housing and neighborhood    Year 9   \n",
       "m4i23n                     Finances ; Housing and neighborhood    Year 5   \n",
       "m4i23d                                                Finances    Year 5   \n",
       "m5f23a                                                Finances    Year 9   \n",
       "m4i23h                                                Finances    Year 5   \n",
       "p4f1j                                                Parenting    Year 5   \n",
       "m3i23d                                                Finances    Year 3   \n",
       "ch3hap                              Health and health behavior    Year 3   \n",
       "m3j0a                               Attitudes and expectations    Year 3   \n",
       "cm3povco                                              Finances    Year 3   \n",
       "m5f8a2                                                Finances    Year 9   \n",
       "m4i23l                                                Finances    Year 5   \n",
       "m5j1                                                  Finances    Year 9   \n",
       "cm5povco                                              Finances    Year 9   \n",
       "cf2hhincb                                             Finances    Year 1   \n",
       "m5f23c                                                Finances    Year 9   \n",
       "p3l1                                  Housing and neighborhood    Year 3   \n",
       "cf2hhinc                                              Finances    Year 1   \n",
       "cf2povco                                              Finances    Year 1   \n",
       "p3j7                                                 Parenting    Year 3   \n",
       "m5g33                               Health and health behavior    Year 9   \n",
       "m4j0                                Attitudes and expectations    Year 5   \n",
       "cm2povco                                              Finances    Year 1   \n",
       "m4l1                                                  Finances    Year 5   \n",
       "p3a21        Health and health behavior ; Housing and neigh...    Year 3   \n",
       "cm4povco                                              Finances    Year 5   \n",
       "p4f1f                                                Parenting    Year 5   \n",
       "cm4povca                                              Finances    Year 5   \n",
       "m2h9c2                                                Finances    Year 1   \n",
       "m1j2b                                                 Finances  Baseline   \n",
       "p3j11                                                Parenting    Year 3   \n",
       "cm2hhinc                                              Finances    Year 1   \n",
       "p3d1b                                                 Finances    Year 3   \n",
       "p5h14                               Health and health behavior    Year 9   \n",
       "cm5b_ageyrs                Demographics ; Paradata and weights    Year 9   \n",
       "ch4mwtlb                            Health and health behavior    Year 5   \n",
       "cf4povcob                                             Finances    Year 5   \n",
       "cf5hhincb                                             Finances    Year 9   \n",
       "p5j10                                                 Finances    Year 9   \n",
       "ch4mwtkg                            Health and health behavior    Year 5   \n",
       "ch3waz                              Health and health behavior    Year 3   \n",
       "cf2povcob                                             Finances    Year 1   \n",
       "cm1povca                                              Finances  Baseline   \n",
       "ch3mwtkg                            Health and health behavior    Year 3   \n",
       "ch4cbmi_p                           Health and health behavior    Year 5   \n",
       "p5q3ak                    Cognitive and behavioral development    Year 9   \n",
       "\n",
       "                value  \n",
       "m5g0         0.005217  \n",
       "m5f23g       0.005062  \n",
       "cm4hhinc     0.003982  \n",
       "m5f23e       0.003877  \n",
       "m5f23k       0.003558  \n",
       "m4i23n       0.003485  \n",
       "m4i23d       0.003236  \n",
       "m5f23a       0.002735  \n",
       "m4i23h       0.002726  \n",
       "p4f1j        0.002697  \n",
       "m3i23d       0.002693  \n",
       "ch3hap       0.002685  \n",
       "m3j0a        0.002659  \n",
       "cm3povco     0.002613  \n",
       "m5f8a2       0.002459  \n",
       "m4i23l       0.002303  \n",
       "m5j1         0.002248  \n",
       "cm5povco     0.002247  \n",
       "cf2hhincb    0.002241  \n",
       "m5f23c       0.002171  \n",
       "p3l1         0.002131  \n",
       "cf2hhinc     0.002103  \n",
       "cf2povco     0.002099  \n",
       "p3j7         0.002031  \n",
       "m5g33        0.001998  \n",
       "m4j0         0.001988  \n",
       "cm2povco       0.0018  \n",
       "m4l1          0.00178  \n",
       "p3a21        0.001773  \n",
       "cm4povco     0.001744  \n",
       "p4f1f        0.001702  \n",
       "cm4povca     0.001678  \n",
       "m2h9c2       0.001614  \n",
       "m1j2b        0.001604  \n",
       "p3j11        0.001565  \n",
       "cm2hhinc     0.001554  \n",
       "p3d1b        0.001519  \n",
       "p5h14        0.001518  \n",
       "cm5b_ageyrs  0.001514  \n",
       "ch4mwtlb     0.001484  \n",
       "cf4povcob    0.001484  \n",
       "cf5hhincb    0.001476  \n",
       "p5j10        0.001474  \n",
       "ch4mwtkg     0.001467  \n",
       "ch3waz       0.001457  \n",
       "cf2povcob    0.001455  \n",
       "cm1povca     0.001447  \n",
       "ch3mwtkg     0.001427  \n",
       "ch4cbmi_p    0.001414  \n",
       "p5q3ak       0.001413  "
      ]
     },
     "metadata": {},
     "output_type": "display_data"
    }
   ],
   "source": [
    "rf_features_df"
   ]
  },
  {
   "cell_type": "markdown",
   "metadata": {},
   "source": [
    "# LASSO Feature Selection"
   ]
  },
  {
   "cell_type": "code",
   "execution_count": null,
   "metadata": {},
   "outputs": [
    {
     "name": "stdout",
     "output_type": "stream",
     "text": [
      "m1e3b5: 0.0011982133271067864\n",
      "f2c14: 0.002010417472922448\n",
      "f2j4: 0.0016172121775896837\n",
      "cf2hhinc: -0.0009525032692881026\n",
      "cf2povco: -0.0002573715511872814\n",
      "m2h9a1: -0.00403304050243206\n",
      "m2h10a: -3.3487446843877897e-17\n",
      "f3k17c: 0.0003021961930993092\n",
      "m3i7f: -0.0061328028517389785\n",
      "m3i22: -0.0009770340874821685\n",
      "m3i23d: -0.006475937531579534\n",
      "m3i23e: -0.0064678314663823904\n",
      "m3k21: -0.0008466853370096143\n",
      "m3k25a: -0.0008369119927822161\n",
      "m3k27a: -0.001709118490012428\n",
      "p3a21: 0.0020037764081046413\n",
      "p3d2: 0.004204652890002982\n",
      "p3j7: 0.0035753321602266293\n",
      "p3m17: 0.00029856566897655637\n",
      "p3m31: 0.0011805987312055663\n",
      "o3r1: 0.0025288065346244417\n",
      "f4b6b: -0.0016573663439639749\n",
      "f4b6c: -0.0007431662653272984\n",
      "cf4povcab: -0.002694545468965038\n",
      "m4i0a: -0.0021880000953080517\n",
      "m4i14: 0.002993617754393844\n",
      "m4i23d: -0.004913252140209718\n",
      "m4i23n: -0.006849929390267173\n",
      "m4j3: -0.0009850525965235638\n",
      "cm4povca: -0.004500669500382357\n",
      "p4d2: 0.0002864812565591847\n",
      "p4f1e: -0.000313413548134778\n",
      "p4f1f: -0.005394285853379161\n",
      "p4g23d: 0.00019095068083685877\n",
      "k5e1d: -9.818467354413924e-05\n",
      "m5f23a: -0.0062215686084366815\n",
      "m5f23c: -0.0016821480511930475\n",
      "m5f23e: -0.010625624209107525\n",
      "m5f23g: -0.007685892069846142\n",
      "m5f23k: -0.009181178782304431\n",
      "m5g0: 0.012983807911737482\n",
      "m5g1: 0.002101110048836872\n",
      "f5i14b4: 7.936360391419135e-05\n",
      "p5h15: -0.0015364307636319284\n",
      "p5l12b: -0.002164441995841508\n",
      "p5l13g: -0.001765542347704201\n",
      "p5q3g: 0.002319967809150127\n",
      "p5q3k: 0.0010810191877709968\n",
      "p5q3bl: 0.001659195172102044\n",
      "p5q3bn: 0.0010288871923283774\n",
      "p5q3bo: 0.0010459113827503378\n",
      "p5q3do: -0.0011184380016887833\n"
     ]
    }
   ],
   "source": [
    "coefficients = lasso_model.coef_\n",
    "\n",
    "# get features with non-zero coeffs\n",
    "for feature, coef in zip(MH_X_train.columns, coefficients):\n",
    "    if coef != 0:\n",
    "        print(f\"{feature}: {coef}\")"
   ]
  },
  {
   "cell_type": "code",
   "execution_count": null,
   "metadata": {},
   "outputs": [],
   "source": [
    "# get dict with features and metadata using ff api\n",
    "lasso_features_dict = {}\n",
    "for feature, coef in zip(MH_X_train.columns, coefficients):\n",
    "    if coef != 0:\n",
    "        lasso_features_dict[feature] = ff.select(feature,['focal_person','label','respondent','subtopics','topics','subtopics','survey','wave'])\n",
    "        lasso_features_dict[feature]['coefficient'] = coef"
   ]
  },
  {
   "cell_type": "code",
   "execution_count": null,
   "metadata": {},
   "outputs": [
    {
     "data": {
      "text/plain": [
       "52"
      ]
     },
     "metadata": {},
     "output_type": "display_data"
    }
   ],
   "source": [
    "len(lasso_features_dict)"
   ]
  },
  {
   "cell_type": "code",
   "execution_count": null,
   "metadata": {},
   "outputs": [],
   "source": [
    "# save dict\n",
    "file_path = 'lasso_features_dict.pkl'\n",
    "with open(file_path, 'wb') as f:\n",
    "    pickle.dump(lasso_features_dict, f)\n"
   ]
  },
  {
   "cell_type": "code",
   "execution_count": null,
   "metadata": {},
   "outputs": [],
   "source": [
    "pd.DataFrame(lasso_features_dict)\n",
    "# transpose\n",
    "lasso_features_df = pd.DataFrame(lasso_features_dict).T"
   ]
  },
  {
   "cell_type": "code",
   "execution_count": null,
   "metadata": {},
   "outputs": [],
   "source": [
    "lasso_features_df\n",
    "# sort by coefficient absolute value\n",
    "lasso_features_df = lasso_features_df.reindex(lasso_features_df['coefficient'].abs().sort_values(ascending=False).index)"
   ]
  },
  {
   "cell_type": "code",
   "execution_count": null,
   "metadata": {},
   "outputs": [],
   "source": [
    "lasso_features_df.to_csv('../Output/Lasso_Features.csv')"
   ]
  },
  {
   "cell_type": "code",
   "execution_count": null,
   "metadata": {},
   "outputs": [
    {
     "data": {
      "image/png": "[encoded data removed]",
      "text/plain": [
       "<Figure size 800x600 with 1 Axes>"
      ]
     },
     "metadata": {},
     "output_type": "display_data"
    }
   ],
   "source": [
    "# plot features by respondent\n",
    "\n",
    "plt.figure(figsize=(8, 6))\n",
    "ax = sns.countplot(x='respondent', data=lasso_features_df, palette='Paired')\n",
    "\n",
    "plt.xlabel('Respondent', fontsize=12)\n",
    "plt.ylabel('Count', fontsize=12)\n",
    "\n",
    "plt.xticks(rotation=45)\n",
    "\n",
    "plt.tight_layout()\n",
    "\n",
    "plt.show()\n"
   ]
  },
  {
   "cell_type": "code",
   "execution_count": null,
   "metadata": {},
   "outputs": [
    {
     "data": {
      "text/plain": [
       "Text(0, 0.5, 'Count')"
      ]
     },
     "metadata": {},
     "output_type": "display_data"
    },
    {
     "data": {
      "image/png": "[encoded data removed]",
      "text/plain": [
       "<Figure size 800x600 with 1 Axes>"
      ]
     },
     "metadata": {},
     "output_type": "display_data"
    }
   ],
   "source": [
    "# plot features by wave\n",
    "\n",
    "plt.figure(figsize=(8, 6))\n",
    "ax = sns.countplot(x='wave', data=lasso_features_df, palette='Paired')\n",
    "plt.xlabel('Wave', fontsize=12)\n",
    "plt.ylabel('Count', fontsize=12)\n"
   ]
  },
  {
   "cell_type": "code",
   "execution_count": null,
   "metadata": {},
   "outputs": [
    {
     "data": {
      "image/png": "[encoded data removed]",
      "text/plain": [
       "<Figure size 1000x600 with 1 Axes>"
      ]
     },
     "metadata": {},
     "output_type": "display_data"
    }
   ],
   "source": [
    "#plot subtopics\n",
    "\n",
    "# split multiple subtopics by semicolon\n",
    "lasso_features_df['individual_subtopics'] = lasso_features_df['subtopics'].str.split(';')\n",
    "\n",
    "# explode to individual row per subtopic\n",
    "exploded_df = lasso_features_df.explode('individual_subtopics')\n",
    "exploded_df['individual_subtopics'] = exploded_df['individual_subtopics'].str.strip()\n",
    "\n",
    "bar_color = 'steelblue'\n",
    "\n",
    "# plot horizontal bar chart by count\n",
    "plt.figure(figsize=(10, 6))\n",
    "ax = sns.countplot(data=exploded_df, y='individual_subtopics', order=exploded_df['individual_subtopics'].value_counts().index, color = bar_color, orient='h')\n",
    "\n",
    "plt.yticks(rotation=0)\n",
    "\n",
    "plt.xlabel('Count')\n",
    "plt.ylabel('Subtopics')\n",
    "\n",
    "plt.tight_layout()\n",
    "\n",
    "plt.show()"
   ]
  },
  {
   "cell_type": "markdown",
   "metadata": {},
   "source": [
    "# Lasso on Selected Features"
   ]
  },
  {
   "cell_type": "code",
   "execution_count": null,
   "metadata": {},
   "outputs": [],
   "source": [
    "# subset of MH_X_train with only features in lasso_features_dict\n",
    "MH_X_train_lasso = MH_X_train[lasso_features_dict.keys()]\n",
    "MH_X_test_lasso = MH_X_test[lasso_features_dict.keys()]\n"
   ]
  },
  {
   "cell_type": "code",
   "execution_count": null,
   "metadata": {},
   "outputs": [],
   "source": [
    "# LASSO pipeline\n",
    "lasso_pipeline_2 = Pipeline([\n",
    "    ('scaler', StandardScaler()),\n",
    "    ('lasso', LassoCV(cv=5, random_state=42))\n",
    "])\n",
    "\n",
    "lasso_pipeline_2.fit(MH_X_train_lasso, MH_y_train)\n",
    "\n",
    "lasso_model_2 = lasso_pipeline_2.named_steps['lasso']\n"
   ]
  },
  {
   "cell_type": "code",
   "execution_count": null,
   "metadata": {},
   "outputs": [
    {
     "name": "stdout",
     "output_type": "stream",
     "text": [
      "Best alpha: 0.0009213504747026076\n"
     ]
    }
   ],
   "source": [
    "print(\"Best alpha:\", lasso_model_2.alpha_)"
   ]
  },
  {
   "cell_type": "code",
   "execution_count": null,
   "metadata": {},
   "outputs": [
    {
     "name": "stdout",
     "output_type": "stream",
     "text": [
      "Best MSE from Cross-Validation: 0.016200801004051274\n"
     ]
    }
   ],
   "source": [
    "# CV MSE\n",
    "lasso_mean_mse_2 = np.mean(lasso_model_2.mse_path_, axis=1)\n",
    "best_mse = np.min(lasso_mean_mse_2)\n",
    "print(\"Best MSE from Cross-Validation:\", best_mse)"
   ]
  },
  {
   "cell_type": "code",
   "execution_count": null,
   "metadata": {},
   "outputs": [
    {
     "name": "stdout",
     "output_type": "stream",
     "text": [
      "Test MSE with Lasso-selected features: 0.02511447660950494\n"
     ]
    }
   ],
   "source": [
    "MH_y_pred = lasso_pipeline_2.predict(MH_X_test_lasso)\n",
    "\n",
    "# MSE on the test set\n",
    "test_mse_lasso_2 = mean_squared_error(MH_y_test, MH_y_pred)\n",
    "print(\"Test MSE with Lasso-selected features:\", test_mse_lasso_2)\n"
   ]
  },
  {
   "cell_type": "code",
   "execution_count": null,
   "metadata": {},
   "outputs": [],
   "source": [
    "mh_mse_dict['Lasso_Features_Selected']['average_mse'] = best_mse"
   ]
  },
  {
   "cell_type": "code",
   "execution_count": null,
   "metadata": {},
   "outputs": [],
   "source": [
    "mh_mse_dict['Lasso_Features_Selected']['test_mse'] = test_mse_lasso_2"
   ]
  },
  {
   "cell_type": "markdown",
   "metadata": {},
   "source": [
    "# Random Forest on Selected Features"
   ]
  },
  {
   "cell_type": "code",
   "execution_count": null,
   "metadata": {},
   "outputs": [],
   "source": [
    "random_search.fit(MH_X_train_lasso, MH_y_train)\n",
    "print(f\"Best parameters found by randomized search:\", random_search.best_params_)\n",
    "rf_lasso_model = random_search.best_estimator_\n",
    "cv_scores = cross_val_score(rf_lasso_model, MH_X_train_lasso, MH_y_train, cv=5, scoring='neg_mean_squared_error')\n",
    "cv_mse = -cv_scores.mean() \n",
    "mh_mse_dict['Random Forest LASSO Features']['average_mse'] = cv_mse\n",
    "print(\"f{Outcome} Cross-Validation MSE for Random Search Model:\", cv_mse)\n",
    "random_y_pred = random_search_model.predict(MH_X_test_lasso)\n",
    "random_mse = mean_squared_error(MH_y_test, random_y_pred)\n",
    "mh_mse_dict['Random Forest LASSO Features']['test_mse'] = random_mse\n",
    "print(f\"{outcome} Test MSE:\", random_mse)\n"
   ]
  },
  {
   "cell_type": "code",
   "execution_count": null,
   "metadata": {},
   "outputs": [
    {
     "data": {
      "text/html": [
       "<div>\n",
       "<style scoped>\n",
       "    .dataframe tbody tr th:only-of-type {\n",
       "        vertical-align: middle;\n",
       "    }\n",
       "\n",
       "    .dataframe tbody tr th {\n",
       "        vertical-align: top;\n",
       "    }\n",
       "\n",
       "    .dataframe thead th {\n",
       "        text-align: right;\n",
       "    }\n",
       "</style>\n",
       "<table border=\"1\" class=\"dataframe\">\n",
       "  <thead>\n",
       "    <tr style=\"text-align: right;\">\n",
       "      <th></th>\n",
       "      <th>Linear</th>\n",
       "      <th>Lasso</th>\n",
       "      <th>Decision Tree</th>\n",
       "      <th>GBM</th>\n",
       "      <th>XGBoost</th>\n",
       "      <th>LASSO Selected Features</th>\n",
       "      <th>Random Forest</th>\n",
       "    </tr>\n",
       "  </thead>\n",
       "  <tbody>\n",
       "    <tr>\n",
       "      <th>average_mse</th>\n",
       "      <td>0.027674</td>\n",
       "      <td>0.019197</td>\n",
       "      <td>0.042211</td>\n",
       "      <td>0.021563</td>\n",
       "      <td>0.019369</td>\n",
       "      <td>0.016201</td>\n",
       "      <td>0.019947</td>\n",
       "    </tr>\n",
       "    <tr>\n",
       "      <th>test_mse</th>\n",
       "      <td>0.030657</td>\n",
       "      <td>0.023200</td>\n",
       "      <td>0.044379</td>\n",
       "      <td>0.024789</td>\n",
       "      <td>0.023854</td>\n",
       "      <td>0.025114</td>\n",
       "      <td>0.023861</td>\n",
       "    </tr>\n",
       "  </tbody>\n",
       "</table>\n",
       "</div>"
      ],
      "text/plain": [
       "               Linear     Lasso  Decision Tree       GBM   XGBoost  \\\n",
       "average_mse  0.027674  0.019197       0.042211  0.021563  0.019369   \n",
       "test_mse     0.030657  0.023200       0.044379  0.024789  0.023854   \n",
       "\n",
       "             LASSO Selected Features  Random Forest  \n",
       "average_mse                 0.016201       0.019947  \n",
       "test_mse                    0.025114       0.023861  "
      ]
     },
     "metadata": {},
     "output_type": "display_data"
    }
   ],
   "source": [
    "pd.DataFrame(mh_mse_dict)"
   ]
  },
  {
   "cell_type": "code",
   "execution_count": null,
   "metadata": {},
   "outputs": [],
   "source": [
    "mh_mse_dict['Random Forest LASSO Features']['average_mse'] = cv_mse\n",
    "mh_mse_dict['Random Forest LASSO Features']['test_mse'] = random_mse\n"
   ]
  },
  {
   "cell_type": "markdown",
   "metadata": {},
   "source": [
    "# Model Interpretation"
   ]
  },
  {
   "cell_type": "code",
   "execution_count": null,
   "metadata": {},
   "outputs": [],
   "source": [
    "from sklearn.inspection import PartialDependenceDisplay"
   ]
  },
  {
   "cell_type": "code",
   "execution_count": null,
   "metadata": {},
   "outputs": [
    {
     "data": {
      "text/plain": [
       "<sklearn.inspection._plot.partial_dependence.PartialDependenceDisplay at 0x309b1bc50>"
      ]
     },
     "metadata": {},
     "output_type": "display_data"
    },
    {
     "data": {
      "image/png": "[encoded data removed]",
      "text/plain": [
       "<Figure size 640x480 with 2 Axes>"
      ]
     },
     "metadata": {},
     "output_type": "display_data"
    }
   ],
   "source": [
    "features = ['m5g0']\n",
    "PartialDependenceDisplay.from_estimator(random_search_model, MH_X_train, features)"
   ]
  },
  {
   "cell_type": "code",
   "execution_count": null,
   "metadata": {},
   "outputs": [
    {
     "data": {
      "text/plain": [
       "<sklearn.inspection._plot.partial_dependence.PartialDependenceDisplay at 0x30e005ad0>"
      ]
     },
     "metadata": {},
     "output_type": "display_data"
    },
    {
     "data": {
      "image/png": "[encoded data removed]",
      "text/plain": [
       "<Figure size 640x480 with 2 Axes>"
      ]
     },
     "metadata": {},
     "output_type": "display_data"
    }
   ],
   "source": [
    "PartialDependenceDisplay.from_estimator(rf_lasso_model, MH_X_train_lasso, features)"
   ]
  },
  {
   "cell_type": "markdown",
   "metadata": {},
   "source": [
    "## SHAP"
   ]
  },
  {
   "cell_type": "code",
   "execution_count": null,
   "metadata": {},
   "outputs": [],
   "source": [
    "# from week 2 notebook solutions\n",
    "import shap\n",
    "explainer = shap.TreeExplainer(rf_lasso_model)\n",
    "shap_values = explainer.shap_values(MH_X_test_lasso)\n",
    "shap.summary_plot(shap_values, MH_X_test_lasso, feature_names=MH_X_test_lasso.columns)"
   ]
  },
  {
   "cell_type": "code",
   "execution_count": null,
   "metadata": {},
   "outputs": [
    {
     "data": {
      "image/png": "[encoded data removed]",
      "text/plain": [
       "<Figure size 800x950 with 2 Axes>"
      ]
     },
     "metadata": {},
     "output_type": "display_data"
    }
   ],
   "source": [
    "# from week 2 notebook solutions\n",
    "import shap\n",
    "explainer_all = shap.TreeExplainer(random_search_model)\n",
    "shap_values_all = explainer_all.shap_values(MH_X_test)\n",
    "shap.summary_plot(shap_values_all, MH_X_test, feature_names=MH_X_test.columns)"
   ]
  },
  {
   "cell_type": "markdown",
   "metadata": {},
   "source": [
    "# Models for Other 5 Outcomes"
   ]
  },
  {
   "cell_type": "markdown",
   "metadata": {},
   "source": [
    "## Upsample Data"
   ]
  },
  {
   "cell_type": "code",
   "execution_count": null,
   "metadata": {},
   "outputs": [],
   "source": [
    "gpa_datasets = [gpa_X_train, gpa_X_test, gpa_y_train, gpa_y_test]\n",
    "grit_datasets = [grit_X_train, grit_X_test, grit_y_train, grit_y_test]\n",
    "layoff_datasets = [layoff_X_train, layoff_X_test, layoff_y_train, layoff_y_test]\n",
    "eviction_datasets = [eviction_X_train, eviction_X_test, eviction_y_train, eviction_y_test]\n",
    "jobTraining_datasets = [jobTraining_X_train, jobTraining_X_test, jobTraining_y_train, jobTraining_y_test]\n",
    "MH_datasets = [MH_X_train, MH_X_test, MH_y_train, MH_y_test]"
   ]
  },
  {
   "cell_type": "code",
   "execution_count": null,
   "metadata": {},
   "outputs": [],
   "source": [
    "outcome_datasets = [gpa_datasets, grit_datasets, layoff_datasets, eviction_datasets, jobTraining_datasets, MH_datasets]\n"
   ]
  },
  {
   "cell_type": "code",
   "execution_count": null,
   "metadata": {},
   "outputs": [],
   "source": [
    "outcomes = ['gpa', 'grit', 'eviction', 'jobTraining', 'layoff', 'materialHardship']\n"
   ]
  },
  {
   "cell_type": "code",
   "execution_count": null,
   "metadata": {},
   "outputs": [],
   "source": [
    "def upsample(X_train, y_train):\n",
    "    ''' get upsampled data for each binary class'''\n",
    "    # get counts for each class\n",
    "    unique_classes, counts = np.unique(y_train, return_counts=True)\n",
    "    # get min and maj class\n",
    "    minority_class = unique_classes[np.argmin(counts)]\n",
    "    majority_class = unique_classes[np.argmax(counts)]\n",
    "    # get mask for min and maj class\n",
    "    minority_mask = y_train == minority_class\n",
    "    majority_mask = y_train == majority_class\n",
    "    # filter features for each class\n",
    "    minority_features = X_train[minority_mask]\n",
    "    majority_features = X_train[majority_mask]\n",
    "    minority_labels = y_train[minority_mask]\n",
    "    majority_labels = y_train[majority_mask]\n",
    "    # get # of majority \n",
    "    n_majority = len(majority_features)\n",
    "    # get indices for minority class\n",
    "    ids = np.arange(len(minority_features))\n",
    "    \n",
    "    # upsampling\n",
    "    choices = np.random.choice(ids, n_majority, replace=True)\n",
    "    resampled_minority_features = minority_features.iloc[choices]\n",
    "    resampled_minority_labels = minority_labels.iloc[choices]   \n",
    "    # concat upsampled minority w/ majority\n",
    "    resampled_features = pd.concat([resampled_minority_features, majority_features], axis=0)\n",
    "    resampled_labels = pd.concat([resampled_minority_labels, majority_labels], axis=0)\n",
    "\n",
    "    # shuffle\n",
    "    order = np.random.permutation(len(resampled_labels))\n",
    "    resampled_features = resampled_features.iloc[order].reset_index(drop=True)\n",
    "    resampled_labels = resampled_labels.iloc[order].reset_index(drop=True)\n",
    "\n",
    "    return resampled_features, resampled_labels\n",
    "\n",
    "layoff_X_train_upsample, layoff_y_train_upsample = upsample(layoff_datasets[0], layoff_datasets[2])\n",
    "eviction_X_train_upsample, eviction_y_train_upsample = upsample(eviction_datasets[0], eviction_datasets[2])\n",
    "jobTraining_X_train_upsample, jobTraining_y_train_upsample = upsample(jobTraining_datasets[0], jobTraining_datasets[2])\n",
    "\n",
    "# adapted from class tutorial 1 solutions"
   ]
  },
  {
   "cell_type": "code",
   "execution_count": null,
   "metadata": {},
   "outputs": [
    {
     "name": "stdout",
     "output_type": "stream",
     "text": [
      "Layoff dataset class balance: {0.0: 799, 1.0: 799}\n",
      "Eviction dataset class balance: {0.0: 1095, 1.0: 1095}\n",
      "Job Training dataset class balance: {0.0: 899, 1.0: 899}\n"
     ]
    }
   ],
   "source": [
    "# check class balance\n",
    "def check_class_balance(y_train):\n",
    "    unique_classes, counts = np.unique(y_train, return_counts=True)\n",
    "    balance_info = dict(zip(unique_classes, counts))\n",
    "    return balance_info\n",
    "\n",
    "layoff_balance = check_class_balance(layoff_y_train_upsample)\n",
    "eviction_balance = check_class_balance(eviction_y_train_upsample)\n",
    "jobTraining_balance = check_class_balance(jobTraining_y_train_upsample)\n",
    "\n",
    "print(\"Layoff dataset class balance:\", layoff_balance)\n",
    "print(\"Eviction dataset class balance:\", eviction_balance)\n",
    "print(\"Job Training dataset class balance:\", jobTraining_balance)\n"
   ]
  },
  {
   "cell_type": "code",
   "execution_count": null,
   "metadata": {},
   "outputs": [],
   "source": [
    "layoff_data_upsampled = [\n",
    "    layoff_X_train_upsample,  # Upsampled training features\n",
    "    layoff_datasets[1],       # Original testing features\n",
    "    layoff_y_train_upsample,  # Upsampled training labels\n",
    "    layoff_datasets[3]        # Original testing labels\n",
    "]\n",
    "\n",
    "eviction_data_upsampled = [\n",
    "    eviction_X_train_upsample,  # Upsampled training features\n",
    "    eviction_datasets[1],       # Original testing features\n",
    "    eviction_y_train_upsample,  # Upsampled training labels\n",
    "    eviction_datasets[3]        # Original testing labels\n",
    "]\n",
    "\n",
    "jobTraining_data_upsampled = [\n",
    "    jobTraining_X_train_upsample,  # Upsampled training features\n",
    "    jobTraining_datasets[1],       # Original testing features\n",
    "    jobTraining_y_train_upsample,  # Upsampled training labels\n",
    "    jobTraining_datasets[3]        # Original testing labels\n",
    "]\n"
   ]
  },
  {
   "cell_type": "code",
   "execution_count": null,
   "metadata": {},
   "outputs": [],
   "source": [
    "# update datasets\n",
    "outcome_datasets = [gpa_datasets, grit_datasets, layoff_data_upsampled, eviction_data_upsampled, jobTraining_data_upsampled, MH_datasets]\n"
   ]
  },
  {
   "cell_type": "code",
   "execution_count": null,
   "metadata": {},
   "outputs": [],
   "source": [
    "def model_outcomes_binary(outcome, dataset):\n",
    "    X_train = dataset[0]\n",
    "    X_test = dataset[1]\n",
    "    y_train = dataset[2]\n",
    "    y_test = dataset[3]\n",
    "    print(f'{outcome} Model')\n",
    "    mse_dict = defaultdict()\n",
    "    if outcome in ['eviction','jobTraining','layoff']: \n",
    "        binary_random_search.fit(X_train, y_train)\n",
    "        print(f\"Best parameters found by randomized search:\", binary_random_search.best_params_)\n",
    "        random_search_model = binary_random_search.best_estimator_\n",
    "    else:     \n",
    "        random_search.fit(X_train, y_train)\n",
    "        print(f\"Best parameters found by randomized search:\", random_search.best_params_)\n",
    "        random_search_model = random_search.best_estimator_\n",
    "        \n",
    "    model_path = f'rf_{outcome}_model.joblib'\n",
    "    # Save the model\n",
    "    print(f\"saving {outcome} model\")\n",
    "    joblib.dump(random_search_model, model_path)\n",
    "    cv_scores = cross_val_score(random_search_model, X_train, y_train, cv=5, scoring='neg_mean_squared_error')\n",
    "    cv_mse = -cv_scores.mean()  \n",
    "    mse_dict['cv_mse']: cv_mse\n",
    "    print(\"f{Outcome} Cross-Validation MSE for Random Search Model:\", cv_mse)\n",
    "    random_y_pred = random_search_model.predict(X_test)\n",
    "    test_mse = mean_squared_error(y_test, random_y_pred)\n",
    "    mse_dict['test_mse']: test_mse\n",
    "    print(f\"{outcome} Test MSE:\", test_mse)\n",
    "    return cv_mse, test_mse"
   ]
  },
  {
   "cell_type": "code",
   "execution_count": null,
   "metadata": {},
   "outputs": [],
   "source": [
    "binary_outcomes = ['layoff', 'eviction', 'jobTraining']\n",
    "binary_datasets = [layoff_data_upsampled, eviction_data_upsampled, jobTraining_data_upsampled]"
   ]
  },
  {
   "cell_type": "code",
   "execution_count": null,
   "metadata": {},
   "outputs": [],
   "source": [
    "binary_outcomes_performance_dict = defaultdict(dict)\n",
    "for outcome, dataset in zip(binary_outcomes, binary_datasets):\n",
    "    cv_mse, test_mse = model_outcomes_binary(outcome, dataset)\n",
    "    binary_outcomes_performance_dict[outcome]['validation_mse'] = cv_mse\n",
    "    binary_outcomes_performance_dict[outcome]['test_mse'] = test_mse\n"
   ]
  },
  {
   "cell_type": "markdown",
   "metadata": {},
   "source": [
    "### With LASSO"
   ]
  },
  {
   "cell_type": "code",
   "execution_count": null,
   "metadata": {},
   "outputs": [],
   "source": [
    "# get outcome features \n",
    "for outcome, dataset in zip(outcomes, outcome_datasets):\n",
    "    X_train = dataset[0]\n",
    "    X_test = dataset[1]\n",
    "    y_train = dataset[2]\n",
    "    y_test = dataset[3]\n",
    "    \n",
    "    print(f\"{outcome} LASSO model\")\n",
    "    \n",
    "    if outcome in ['eviction','jobTraining','layoff']: \n",
    "        pipeline = Pipeline([\n",
    "        ('scaler', StandardScaler()),\n",
    "        ('logistic', LogisticRegressionCV(cv=5, penalty='l1', solver='saga', random_state=42))])\n",
    "        model_name = 'logistic'\n",
    "                \n",
    "    else: \n",
    "        pipeline = Pipeline([\n",
    "        ('scaler', StandardScaler()),\n",
    "        ('lasso', LassoCV(cv=5, random_state=42))])\n",
    "        model_name = 'lasso'\n",
    "\n",
    "    print(\"fitting model\")\n",
    "\n",
    "    pipeline.fit(X_train, y_train)\n",
    "\n",
    "    fitted_model = pipeline.named_steps[model_name]\n",
    "    print(\"getting features\")\n",
    "    if model_name == 'logistic':\n",
    "        coefficients = list(fitted_model.coef_[0])\n",
    "    else:\n",
    "        coefficients = fitted_model.coef_    \n",
    "\n",
    "    for feature, coef in zip(X_train.columns, coefficients):\n",
    "        if coef != 0:\n",
    "            # lasso_features_dict_outcomes[outcome][feature] = ff.select(feature,['focal_person','label','respondent','subtopics','topics','subtopics','survey','wave'])\n",
    "            lasso_features_dict_outcomes[outcome][feature] = coef"
   ]
  },
  {
   "cell_type": "code",
   "execution_count": null,
   "metadata": {},
   "outputs": [],
   "source": [
    "outcome_X_data = defaultdict(dict)\n",
    "for outcome, dataset in zip(outcomes, outcome_datasets): \n",
    "    X_train = dataset[0]\n",
    "    X_test = dataset[1]\n",
    "    y_train = dataset[2]\n",
    "    y_test = dataset[3]\n",
    "    # filter for lasso features\n",
    "    outcome_X_train_lasso = X_train[lasso_features_dict_outcomes[outcome].keys()]\n",
    "    outcome_X_test_lasso = X_test[lasso_features_dict_outcomes[outcome].keys()]\n",
    "    outcome_X_data[outcome]['train'] = outcome_X_train_lasso\n",
    "    outcome_X_data[outcome]['test'] = outcome_X_test_lasso\n",
    "    "
   ]
  },
  {
   "cell_type": "markdown",
   "metadata": {},
   "source": [
    "### Run Models"
   ]
  },
  {
   "cell_type": "code",
   "execution_count": null,
   "metadata": {},
   "outputs": [],
   "source": [
    "def model_outcomes_lasso(outcome, dataset):\n",
    "    # define data\n",
    "    X_train = outcome_X_data[outcome]['train']\n",
    "    X_test = outcome_X_data[outcome]['test']\n",
    "    y_train = dataset[2]\n",
    "    y_test = dataset[3]\n",
    "    print(f'{outcome} Model')\n",
    "    mse_dict = defaultdict()\n",
    "\n",
    "    if outcome in ['eviction','jobTraining','layoff']: \n",
    "        binary_random_search.fit(X_train, y_train)\n",
    "        print(f\"Best parameters found by randomized search:\", binary_random_search.best_params_)\n",
    "        random_search_model = binary_random_search.best_estimator_\n",
    "    else:     \n",
    "        random_search.fit(X_train, y_train)\n",
    "        print(f\"Best parameters found by randomized search:\", random_search.best_params_)\n",
    "        random_search_model = random_search.best_estimator_\n",
    "        \n",
    "    model_path = f'rf_{outcome}_model.joblib'\n",
    "    # save model\n",
    "    joblib.dump(rf_model, model_path)\n",
    "    # get scores\n",
    "    cv_scores = cross_val_score(random_search_model, X_train, y_train, cv=5, scoring='neg_mean_squared_error')\n",
    "    cv_mse = -cv_scores.mean() \n",
    "    mse_dict['cv_mse']: cv_mse\n",
    "    print(\"f{Outcome} Cross-Validation MSE for Random Search Model:\", cv_mse)\n",
    "    # get test score\n",
    "    random_y_pred = random_search_model.predict(X_test)\n",
    "    test_mse = mean_squared_error(y_test, random_y_pred)\n",
    "    mse_dict['test_mse']: test_mse\n",
    "    print(f\"{outcome} Test MSE:\", test_mse)\n",
    "    return cv_mse, test_mse"
   ]
  },
  {
   "cell_type": "code",
   "execution_count": null,
   "metadata": {},
   "outputs": [],
   "source": [
    "outcomes_performance_dict = defaultdict(dict)"
   ]
  },
  {
   "cell_type": "code",
   "execution_count": null,
   "metadata": {},
   "outputs": [],
   "source": [
    "for outcome, dataset in zip(outcomes, outcome_datasets):\n",
    "    cv_mse, test_mse = model_outcomes_lasso(outcome, dataset)\n",
    "    outcomes_performance_dict[outcome]['validation_mse'] = cv_mse\n",
    "    outcomes_performance_dict[outcome]['test_mse'] = test_mse\n"
   ]
  },
  {
   "cell_type": "markdown",
   "metadata": {},
   "source": [
    "### Load Models and get Test CV"
   ]
  },
  {
   "cell_type": "code",
   "execution_count": null,
   "metadata": {},
   "outputs": [],
   "source": [
    "layoff_model = joblib.load('rf_layoff_model.joblib')"
   ]
  },
  {
   "cell_type": "code",
   "execution_count": null,
   "metadata": {},
   "outputs": [],
   "source": [
    "layoff_y_pred = eviction_model.predict(layoff_X_test)"
   ]
  },
  {
   "cell_type": "code",
   "execution_count": null,
   "metadata": {},
   "outputs": [
    {
     "data": {
      "text/plain": [
       "0.17578125"
      ]
     },
     "metadata": {},
     "output_type": "display_data"
    }
   ],
   "source": [
    "test_mse = mean_squared_error(layoff_y_test, layoff_y_pred)\n",
    "test_mse"
   ]
  },
  {
   "cell_type": "code",
   "execution_count": null,
   "metadata": {},
   "outputs": [],
   "source": [
    "eviction_model = joblib.load('rf_eviction_model.joblib')"
   ]
  },
  {
   "cell_type": "code",
   "execution_count": null,
   "metadata": {},
   "outputs": [],
   "source": [
    "eviction_y_pred = eviction_model.predict(eviction_X_test)"
   ]
  },
  {
   "cell_type": "code",
   "execution_count": null,
   "metadata": {},
   "outputs": [
    {
     "data": {
      "text/plain": [
       "0.05136986301369863"
      ]
     },
     "metadata": {},
     "output_type": "display_data"
    }
   ],
   "source": [
    "eviction_mse = mean_squared_error(eviction_y_test, eviction_y_pred)\n",
    "eviction_mse"
   ]
  },
  {
   "cell_type": "code",
   "execution_count": null,
   "metadata": {},
   "outputs": [],
   "source": [
    "jt_model = joblib.load('rf_jobTraining_model.joblib')"
   ]
  },
  {
   "cell_type": "code",
   "execution_count": null,
   "metadata": {},
   "outputs": [],
   "source": [
    "jt_y_pred = jt_model.predict(jobTraining_X_test)"
   ]
  },
  {
   "cell_type": "code",
   "execution_count": null,
   "metadata": {},
   "outputs": [
    {
     "data": {
      "text/plain": [
       "0.24573378839590443"
      ]
     },
     "metadata": {},
     "output_type": "display_data"
    }
   ],
   "source": [
    "jt_mse = mean_squared_error(jobTraining_y_test, jt_y_pred)\n",
    "jt_mse"
   ]
  },
  {
   "cell_type": "code",
   "execution_count": null,
   "metadata": {},
   "outputs": [
    {
     "data": {
      "text/html": [
       "<div>\n",
       "<style scoped>\n",
       "    .dataframe tbody tr th:only-of-type {\n",
       "        vertical-align: middle;\n",
       "    }\n",
       "\n",
       "    .dataframe tbody tr th {\n",
       "        vertical-align: top;\n",
       "    }\n",
       "\n",
       "    .dataframe thead th {\n",
       "        text-align: right;\n",
       "    }\n",
       "</style>\n",
       "<table border=\"1\" class=\"dataframe\">\n",
       "  <thead>\n",
       "    <tr style=\"text-align: right;\">\n",
       "      <th></th>\n",
       "      <th>gpa</th>\n",
       "      <th>jobTraining</th>\n",
       "      <th>eviction</th>\n",
       "      <th>grit</th>\n",
       "      <th>layoff</th>\n",
       "    </tr>\n",
       "  </thead>\n",
       "  <tbody>\n",
       "    <tr>\n",
       "      <th>Test MSE</th>\n",
       "      <td>0.393647</td>\n",
       "      <td>0.049032</td>\n",
       "      <td>0.146754</td>\n",
       "      <td>0.239638</td>\n",
       "      <td>0.183421</td>\n",
       "    </tr>\n",
       "  </tbody>\n",
       "</table>\n",
       "</div>"
      ],
      "text/plain": [
       "               gpa  jobTraining  eviction      grit    layoff\n",
       "Test MSE  0.393647     0.049032  0.146754  0.239638  0.183421"
      ]
     },
     "metadata": {},
     "output_type": "display_data"
    }
   ],
   "source": [
    "pd.DataFrame(outcomes_performance_dict)"
   ]
  }
 ],
 "metadata": {
  "kernelspec": {
   "display_name": "Python 3 (ipykernel)",
   "language": "python",
   "name": "python3"
  },
  "language_info": {
   "codemirror_mode": {
    "name": "ipython",
    "version": 3
   },
   "file_extension": ".py",
   "mimetype": "text/x-python",
   "name": "python",
   "nbconvert_exporter": "python",
   "pygments_lexer": "ipython3",
   "version": "3.11.5"
  }
 },
 "nbformat": 4,
 "nbformat_minor": 2
}
